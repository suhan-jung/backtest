{
 "cells": [
  {
   "cell_type": "markdown",
   "metadata": {},
   "source": [
    "# Zipline with pandas panel, LKTB, krx calendar"
   ]
  },
  {
   "cell_type": "code",
   "execution_count": null,
   "metadata": {
    "ExecuteTime": {
     "end_time": "2020-02-28T00:26:52.983951Z",
     "start_time": "2020-02-28T00:26:52.499701Z"
    }
   },
   "outputs": [],
   "source": [
    "from zipline.api import order, record, symbol, set_benchmark\n",
    "import zipline\n",
    "import matplotlib.pyplot as plt\n",
    "from datetime import datetime\n",
    "import pandas as pd\n",
    "from collections import OrderedDict\n",
    "import pytz"
   ]
  },
  {
   "cell_type": "markdown",
   "metadata": {},
   "source": [
    "## OrderedDict 이용해서 pandas panel 만들기"
   ]
  },
  {
   "cell_type": "code",
   "execution_count": null,
   "metadata": {
    "ExecuteTime": {
     "end_time": "2020-02-28T00:26:54.186207Z",
     "start_time": "2020-02-28T00:26:54.170740Z"
    }
   },
   "outputs": [],
   "source": [
    "full_file_path = \"./data/SPY.csv\"\n",
    "data = OrderedDict()\n",
    "data['SPY'] = pd.read_csv(full_file_path, index_col=0, parse_dates=['date'])\n",
    "data['SPY'] = data['SPY'][[\"open\",\"high\",\"low\",\"close\",\"volume\"]]\n",
    "print(data['SPY'].head())"
   ]
  },
  {
   "cell_type": "code",
   "execution_count": null,
   "metadata": {},
   "outputs": [],
   "source": [
    "panel = pd.Panel(data)\n",
    "panel.minor_axis = ['open','high','low','close','volume']\n",
    "panel.major_axis = panel.major_axis.tz_localize(pytz.utc) # 2018-01-02 -> 2018-01-02 00:00:00+00:00\n",
    "print(panel)"
   ]
  },
  {
   "cell_type": "code",
   "execution_count": null,
   "metadata": {},
   "outputs": [],
   "source": [
    "type(panel)"
   ]
  },
  {
   "cell_type": "markdown",
   "metadata": {},
   "source": [
    "## 벤치마크 설정"
   ]
  },
  {
   "cell_type": "code",
   "execution_count": null,
   "metadata": {},
   "outputs": [],
   "source": [
    "def initialize(context):\n",
    "    set_benchmark(symbol(\"SPY\"))"
   ]
  },
  {
   "cell_type": "markdown",
   "metadata": {},
   "source": [
    "## handle_data 세팅"
   ]
  },
  {
   "cell_type": "code",
   "execution_count": null,
   "metadata": {},
   "outputs": [],
   "source": [
    "def handle_data(context, data):\n",
    "    order(symbol(\"SPY\"), 10)\n",
    "    record(SPY=data.current(symbol('SPY'), 'price'))"
   ]
  },
  {
   "cell_type": "markdown",
   "metadata": {},
   "source": [
    "## 백테스팅 실행 (data에 pandas panel을 넣어준다)"
   ]
  },
  {
   "cell_type": "code",
   "execution_count": null,
   "metadata": {},
   "outputs": [],
   "source": [
    "# 날짜 유의\n",
    "perf = zipline.run_algorithm(start=datetime(2017, 1, 5, 0, 0, 0, 0, pytz.utc),\n",
    "                      end=datetime(2018, 3, 1, 0, 0, 0, 0, pytz.utc),\n",
    "                      initialize=initialize,\n",
    "                      capital_base=100000,  # 기초자산 설정\n",
    "                      handle_data=handle_data,\n",
    "                      data=panel)"
   ]
  },
  {
   "cell_type": "markdown",
   "metadata": {},
   "source": [
    "## 결과 비교"
   ]
  },
  {
   "cell_type": "markdown",
   "metadata": {},
   "source": [
    "테스팅 결과와 벤치마크인 SPY 지수의 수익률 비교를 위해 SPY 일일 수익률을 생성한다."
   ]
  },
  {
   "cell_type": "code",
   "execution_count": null,
   "metadata": {},
   "outputs": [],
   "source": [
    "data = OrderedDict()\n",
    "data['SPY'] = pd.read_csv(full_file_path, index_col=0, parse_dates=['date'])\n",
    "data['SPY'] = data['SPY'][[\"open\",\"high\",\"low\",\"close\",\"volume\"]]\n",
    "data['SPY'] = data['SPY'].resample(\"1d\").mean()\n",
    "data['SPY'].fillna(method=\"ffill\", inplace=True)\n",
    "print(data['SPY'].head())"
   ]
  },
  {
   "cell_type": "code",
   "execution_count": null,
   "metadata": {},
   "outputs": [],
   "source": [
    "import matplotlib.pyplot as plt\n",
    "from matplotlib import style\n",
    "\n",
    "style.use(\"ggplot\")\n",
    "\n",
    "perf.portfolio_value.pct_change().fillna(0).add(1).cumprod().sub(1).plot(label='portfolio')\n",
    "perf.SPY.pct_change().fillna(0).add(1).cumprod().sub(1).plot(label='benchmark')\n",
    "plt.legend(loc=2)\n",
    "\n",
    "plt.show()"
   ]
  },
  {
   "cell_type": "code",
   "execution_count": null,
   "metadata": {},
   "outputs": [],
   "source": [
    "perf.max_leverage.plot()\n",
    "plt.show()"
   ]
  },
  {
   "cell_type": "code",
   "execution_count": null,
   "metadata": {
    "ExecuteTime": {
     "end_time": "2020-02-28T00:26:54.917279Z",
     "start_time": "2020-02-28T00:26:54.910270Z"
    },
    "scrolled": true
   },
   "outputs": [],
   "source": [
    "data = data['CLOSE']\n",
    "data.columns = ['LKTB']\n",
    "data = data.tz_localize('UTC')\n",
    "data.tail()"
   ]
  },
  {
   "cell_type": "code",
   "execution_count": null,
   "metadata": {
    "ExecuteTime": {
     "end_time": "2020-02-28T00:26:55.727636Z",
     "start_time": "2020-02-28T00:26:55.723647Z"
    }
   },
   "outputs": [],
   "source": [
    "start = datetime.datetime(2012,1,1)\n",
    "end = datetime.datetime(2019,12,31)\n",
    "\n",
    "data = data[start:end]"
   ]
  },
  {
   "cell_type": "code",
   "execution_count": null,
   "metadata": {
    "ExecuteTime": {
     "end_time": "2020-02-28T00:26:57.404361Z",
     "start_time": "2020-02-28T00:26:57.393392Z"
    }
   },
   "outputs": [],
   "source": [
    "data"
   ]
  },
  {
   "cell_type": "code",
   "execution_count": null,
   "metadata": {
    "ExecuteTime": {
     "end_time": "2020-02-28T00:27:00.410432Z",
     "start_time": "2020-02-28T00:26:59.880829Z"
    }
   },
   "outputs": [],
   "source": [
    "from zipline.api import order_target, record, symbol, set_commission, commission, set_slippage, slippage"
   ]
  },
  {
   "cell_type": "code",
   "execution_count": null,
   "metadata": {},
   "outputs": [],
   "source": [
    "import zipline"
   ]
  },
  {
   "cell_type": "code",
   "execution_count": null,
   "metadata": {
    "ExecuteTime": {
     "end_time": "2020-02-27T23:59:13.211945Z",
     "start_time": "2020-02-27T23:59:11.274Z"
    }
   },
   "outputs": [],
   "source": [
    "def initialize(context):\n",
    "    context.i = 0\n",
    "    context.sym = symbol('LKTB')\n",
    "    context.hold = False\n",
    "    set_commission(commission.PerShare(cost=0.000008))\n",
    "    set_slippage(slippage.FixedSlippage(spread=0))"
   ]
  },
  {
   "cell_type": "code",
   "execution_count": null,
   "metadata": {
    "ExecuteTime": {
     "end_time": "2020-02-27T23:59:13.212940Z",
     "start_time": "2020-02-27T23:59:11.275Z"
    }
   },
   "outputs": [],
   "source": [
    "def handle_data(context, data):\n",
    "    context.i += 1\n",
    "    if context.i < 20:\n",
    "        return\n",
    "    \n",
    "    buy = False\n",
    "    sell = False\n",
    "    \n",
    "    ma5 = data.history(context.sym, 'price', 5, '1d').mean()\n",
    "    ma20 = data.history(context.sym, 'price', 20, '1d').mean()\n",
    "    \n",
    "    if ma5 > ma20 and context.hold == False:\n",
    "        order_target(context.sym, 100)\n",
    "        context.hold = True\n",
    "        buy = True\n",
    "    elif ma5 < ma20 and context.hold == True:\n",
    "        order_target(context.sym, -100)\n",
    "        context.hold = False\n",
    "        sell = True\n",
    "        \n",
    "    record(LKTB=data.current(context.sym, \"price\"), ma5=ma5, ma20=ma20, buy=buy, sell=sell)"
   ]
  },
  {
   "cell_type": "code",
   "execution_count": null,
   "metadata": {
    "ExecuteTime": {
     "end_time": "2020-02-27T23:59:13.213965Z",
     "start_time": "2020-02-27T23:59:11.279Z"
    }
   },
   "outputs": [],
   "source": [
    "# from zipline.algorithm import TradingAlgorithm"
   ]
  },
  {
   "cell_type": "code",
   "execution_count": null,
   "metadata": {
    "ExecuteTime": {
     "end_time": "2020-02-27T23:59:13.214934Z",
     "start_time": "2020-02-27T23:59:11.282Z"
    }
   },
   "outputs": [],
   "source": [
    "from trading_calendars import get_calendar\n",
    "trading_calendar=get_calendar('XKRX')"
   ]
  },
  {
   "cell_type": "code",
   "execution_count": null,
   "metadata": {
    "ExecuteTime": {
     "end_time": "2020-02-27T23:59:13.215931Z",
     "start_time": "2020-02-27T23:59:11.285Z"
    }
   },
   "outputs": [],
   "source": [
    "from zipline import run_algorithm\n",
    "\n",
    "start = datetime.datetime(2012, 1, 2)\n",
    "end = datetime.datetime(2019,12,30)\n",
    "\n",
    "start_utc = start.replace(tzinfo = datetime.timezone.utc)\n",
    "end_utc = end.replace(tzinfo = datetime.timezone.utc)\n",
    "\n",
    "result = run_algorithm(\n",
    "    start = start_utc, \n",
    "    end = end_utc, \n",
    "    initialize = initialize, \n",
    "    capital_base = 1000, \n",
    "    handle_data = handle_data, \n",
    "    trading_calendar=trading_calendar,\n",
    "    data = data\n",
    ")"
   ]
  },
  {
   "cell_type": "code",
   "execution_count": null,
   "metadata": {
    "ExecuteTime": {
     "end_time": "2020-02-27T23:59:13.216960Z",
     "start_time": "2020-02-27T23:59:11.287Z"
    }
   },
   "outputs": [],
   "source": [
    "start_utc"
   ]
  },
  {
   "cell_type": "code",
   "execution_count": null,
   "metadata": {
    "ExecuteTime": {
     "end_time": "2020-02-27T23:59:13.218951Z",
     "start_time": "2020-02-27T23:59:11.289Z"
    },
    "scrolled": true
   },
   "outputs": [],
   "source": [
    "'''\n",
    "from zipline.utils.factory import create_simulation_parameters\n",
    "algo = TradingAlgorithm(initialize=initialize, handle_data=handle_data, trading_calendar=trading_calendar)\n",
    "# algo = TradingAlgorithm(initialize=initialize, handle_data=handle_data)\n",
    "result = algo.run(data)\n",
    "'''"
   ]
  },
  {
   "cell_type": "code",
   "execution_count": null,
   "metadata": {
    "ExecuteTime": {
     "end_time": "2020-02-27T23:59:13.219949Z",
     "start_time": "2020-02-27T23:59:11.291Z"
    },
    "scrolled": true
   },
   "outputs": [],
   "source": [
    "plt.plot(result.index, result.portfolio_value)\n",
    "plt.show()"
   ]
  },
  {
   "cell_type": "code",
   "execution_count": null,
   "metadata": {
    "ExecuteTime": {
     "end_time": "2020-02-27T23:59:13.220919Z",
     "start_time": "2020-02-27T23:59:11.293Z"
    }
   },
   "outputs": [],
   "source": [
    "result.info()"
   ]
  },
  {
   "cell_type": "code",
   "execution_count": null,
   "metadata": {
    "ExecuteTime": {
     "end_time": "2020-02-27T23:59:13.221916Z",
     "start_time": "2020-02-27T23:59:11.295Z"
    }
   },
   "outputs": [],
   "source": [
    "plt.plot(result.index, result.LKTB)\n",
    "plt.plot(result.index, result.ma5)\n",
    "plt.plot(result.index, result.ma20)\n",
    "\n",
    "plt.legend(loc='best')\n",
    "\n",
    "plt.plot(result[result.buy == True].index, result.LKTB[result.buy == True], '^')\n",
    "plt.plot(result[result.sell == True].index, result.LKTB[result.sell == True], 'v')\n",
    "plt.show()"
   ]
  },
  {
   "cell_type": "code",
   "execution_count": null,
   "metadata": {
    "ExecuteTime": {
     "end_time": "2020-02-27T23:59:13.222937Z",
     "start_time": "2020-02-27T23:59:11.297Z"
    }
   },
   "outputs": [],
   "source": [
    "result[['starting_cash', 'ending_cash', 'ending_value', 'portfolio_value', 'LKTB', 'capital_used']].head(50)"
   ]
  },
  {
   "cell_type": "code",
   "execution_count": null,
   "metadata": {
    "ExecuteTime": {
     "end_time": "2020-02-27T23:59:13.223910Z",
     "start_time": "2020-02-27T23:59:11.300Z"
    },
    "scrolled": true
   },
   "outputs": [],
   "source": [
    "result.tail()"
   ]
  },
  {
   "cell_type": "code",
   "execution_count": null,
   "metadata": {
    "ExecuteTime": {
     "end_time": "2020-02-27T23:59:13.223910Z",
     "start_time": "2020-02-27T23:59:11.302Z"
    }
   },
   "outputs": [],
   "source": [
    "import pyfolio as pf\n"
   ]
  },
  {
   "cell_type": "code",
   "execution_count": null,
   "metadata": {
    "ExecuteTime": {
     "end_time": "2020-02-27T23:59:13.224932Z",
     "start_time": "2020-02-27T23:59:11.305Z"
    }
   },
   "outputs": [],
   "source": [
    "returns, positions, transactions = pf.utils.extract_rets_pos_txn_from_zipline(result)"
   ]
  },
  {
   "cell_type": "code",
   "execution_count": null,
   "metadata": {
    "ExecuteTime": {
     "end_time": "2020-02-27T23:59:13.225905Z",
     "start_time": "2020-02-27T23:59:11.306Z"
    }
   },
   "outputs": [],
   "source": [
    "pf.plot_drawdown_periods(returns, top=5).set_xlabel('Date')"
   ]
  },
  {
   "cell_type": "code",
   "execution_count": null,
   "metadata": {
    "ExecuteTime": {
     "end_time": "2020-02-27T23:59:13.225905Z",
     "start_time": "2020-02-27T23:59:11.308Z"
    }
   },
   "outputs": [],
   "source": [
    "transactions"
   ]
  },
  {
   "cell_type": "code",
   "execution_count": null,
   "metadata": {
    "ExecuteTime": {
     "end_time": "2020-02-27T23:59:13.229894Z",
     "start_time": "2020-02-27T23:59:11.310Z"
    }
   },
   "outputs": [],
   "source": [
    "#pf.create_simple_tear_sheet(returns, positions=positions, transactions=transactions, live_start_date='2019-02-10')\n",
    "#pf.create_full_tear_sheet(returns, positions=positions, transactions=transactions, live_start_date='2019-02-10', round_trips=True)\n",
    "#pf.create_simple_tear_sheet(returns, positions=positions, transactions=transactions,live_start_date='2019-02-10')\n",
    "sheets = pf.create_full_tear_sheet(returns, positions=positions, transactions=transactions)"
   ]
  },
  {
   "cell_type": "code",
   "execution_count": null,
   "metadata": {
    "ExecuteTime": {
     "end_time": "2020-02-27T23:59:13.230892Z",
     "start_time": "2020-02-27T23:59:11.311Z"
    }
   },
   "outputs": [],
   "source": [
    "sheets"
   ]
  },
  {
   "cell_type": "code",
   "execution_count": null,
   "metadata": {
    "ExecuteTime": {
     "end_time": "2020-02-27T23:59:13.232886Z",
     "start_time": "2020-02-27T23:59:11.313Z"
    }
   },
   "outputs": [],
   "source": [
    "\n",
    "returns.shape"
   ]
  },
  {
   "cell_type": "code",
   "execution_count": null,
   "metadata": {
    "ExecuteTime": {
     "end_time": "2020-02-27T23:59:13.233884Z",
     "start_time": "2020-02-27T23:59:11.315Z"
    }
   },
   "outputs": [],
   "source": [
    "returns.head()"
   ]
  },
  {
   "cell_type": "code",
   "execution_count": null,
   "metadata": {
    "ExecuteTime": {
     "end_time": "2020-02-27T23:59:13.234881Z",
     "start_time": "2020-02-27T23:59:11.317Z"
    }
   },
   "outputs": [],
   "source": [
    "type(returns)"
   ]
  },
  {
   "cell_type": "code",
   "execution_count": null,
   "metadata": {
    "ExecuteTime": {
     "end_time": "2020-02-27T23:59:13.235878Z",
     "start_time": "2020-02-27T23:59:11.319Z"
    }
   },
   "outputs": [],
   "source": [
    "returns.index = returns.index.date"
   ]
  },
  {
   "cell_type": "code",
   "execution_count": null,
   "metadata": {
    "ExecuteTime": {
     "end_time": "2020-02-27T23:59:13.236875Z",
     "start_time": "2020-02-27T23:59:11.320Z"
    }
   },
   "outputs": [],
   "source": [
    "returns"
   ]
  },
  {
   "cell_type": "code",
   "execution_count": null,
   "metadata": {
    "ExecuteTime": {
     "end_time": "2020-02-27T23:59:13.237872Z",
     "start_time": "2020-02-27T23:59:11.322Z"
    }
   },
   "outputs": [],
   "source": [
    "#pf.create_simple_tear_sheet(returns, positions=positions, transactions=transactions, live_start_date='2019-02-10')\n",
    "pf.create_simple_tear_sheet(returns)\n"
   ]
  },
  {
   "cell_type": "code",
   "execution_count": null,
   "metadata": {},
   "outputs": [],
   "source": []
  }
 ],
 "metadata": {
  "kernelspec": {
   "display_name": "backtest",
   "language": "python",
   "name": "backtest"
  },
  "language_info": {
   "codemirror_mode": {
    "name": "ipython",
    "version": 3
   },
   "file_extension": ".py",
   "mimetype": "text/x-python",
   "name": "python",
   "nbconvert_exporter": "python",
   "pygments_lexer": "ipython3",
   "version": "3.5.5"
  },
  "toc": {
   "base_numbering": 1,
   "nav_menu": {},
   "number_sections": false,
   "sideBar": true,
   "skip_h1_title": false,
   "title_cell": "Table of Contents",
   "title_sidebar": "Contents",
   "toc_cell": false,
   "toc_position": {
    "height": "calc(100% - 180px)",
    "left": "10px",
    "top": "150px",
    "width": "384px"
   },
   "toc_section_display": true,
   "toc_window_display": true
  },
  "varInspector": {
   "cols": {
    "lenName": 16,
    "lenType": 16,
    "lenVar": 40
   },
   "kernels_config": {
    "python": {
     "delete_cmd_postfix": "",
     "delete_cmd_prefix": "del ",
     "library": "var_list.py",
     "varRefreshCmd": "print(var_dic_list())"
    },
    "r": {
     "delete_cmd_postfix": ") ",
     "delete_cmd_prefix": "rm(",
     "library": "var_list.r",
     "varRefreshCmd": "cat(var_dic_list()) "
    }
   },
   "types_to_exclude": [
    "module",
    "function",
    "builtin_function_or_method",
    "instance",
    "_Feature"
   ],
   "window_display": false
  }
 },
 "nbformat": 4,
 "nbformat_minor": 4
}
