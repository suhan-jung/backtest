{
 "cells": [
  {
   "cell_type": "markdown",
   "metadata": {},
   "source": [
    "# Backtest Template"
   ]
  },
  {
   "cell_type": "markdown",
   "metadata": {},
   "source": [
    "주요 라이브러리를 import합니다."
   ]
  },
  {
   "cell_type": "code",
   "execution_count": 1,
   "metadata": {
    "ExecuteTime": {
     "end_time": "2020-02-28T00:26:52.983951Z",
     "start_time": "2020-02-28T00:26:52.499701Z"
    }
   },
   "outputs": [],
   "source": [
    "# import libraries\n",
    "\n",
    "import pandas as pd\n",
    "# import pandas_datareader.data as web\n",
    "import datetime\n",
    "import matplotlib.pyplot as plt"
   ]
  },
  {
   "cell_type": "markdown",
   "metadata": {},
   "source": [
    "10년 국채 일자별 데이터파일(.csv)을 dataframe으로 로드합니다."
   ]
  },
  {
   "cell_type": "code",
   "execution_count": 2,
   "metadata": {
    "ExecuteTime": {
     "end_time": "2020-02-28T00:26:54.186207Z",
     "start_time": "2020-02-28T00:26:54.170740Z"
    }
   },
   "outputs": [],
   "source": [
    "#data = web.DataReader(\"AAPL\", \"yahoo\", start, end)\n",
    "data = pd.read_csv(\"./data/LKTB_DAILY.csv\", index_col=0, parse_dates=True)"
   ]
  },
  {
   "cell_type": "code",
   "execution_count": 3,
   "metadata": {},
   "outputs": [
    {
     "data": {
      "text/html": [
       "<div>\n",
       "<style scoped>\n",
       "    .dataframe tbody tr th:only-of-type {\n",
       "        vertical-align: middle;\n",
       "    }\n",
       "\n",
       "    .dataframe tbody tr th {\n",
       "        vertical-align: top;\n",
       "    }\n",
       "\n",
       "    .dataframe thead th {\n",
       "        text-align: right;\n",
       "    }\n",
       "</style>\n",
       "<table border=\"1\" class=\"dataframe\">\n",
       "  <thead>\n",
       "    <tr style=\"text-align: right;\">\n",
       "      <th></th>\n",
       "      <th>OPEN</th>\n",
       "      <th>HIGH</th>\n",
       "      <th>LOW</th>\n",
       "      <th>CLOSE</th>\n",
       "      <th>VOLUME</th>\n",
       "      <th>OPENINTEREST</th>\n",
       "    </tr>\n",
       "    <tr>\n",
       "      <th>DATE</th>\n",
       "      <th></th>\n",
       "      <th></th>\n",
       "      <th></th>\n",
       "      <th></th>\n",
       "      <th></th>\n",
       "      <th></th>\n",
       "    </tr>\n",
       "  </thead>\n",
       "  <tbody>\n",
       "    <tr>\n",
       "      <th>2012-01-02</th>\n",
       "      <td>102.04</td>\n",
       "      <td>102.04</td>\n",
       "      <td>101.83</td>\n",
       "      <td>101.93</td>\n",
       "      <td>16395</td>\n",
       "      <td>13508</td>\n",
       "    </tr>\n",
       "    <tr>\n",
       "      <th>2012-01-03</th>\n",
       "      <td>101.84</td>\n",
       "      <td>101.93</td>\n",
       "      <td>101.68</td>\n",
       "      <td>101.81</td>\n",
       "      <td>21500</td>\n",
       "      <td>12965</td>\n",
       "    </tr>\n",
       "    <tr>\n",
       "      <th>2012-01-04</th>\n",
       "      <td>101.76</td>\n",
       "      <td>101.82</td>\n",
       "      <td>101.70</td>\n",
       "      <td>101.74</td>\n",
       "      <td>30370</td>\n",
       "      <td>12545</td>\n",
       "    </tr>\n",
       "    <tr>\n",
       "      <th>2012-01-05</th>\n",
       "      <td>101.79</td>\n",
       "      <td>101.93</td>\n",
       "      <td>101.71</td>\n",
       "      <td>101.90</td>\n",
       "      <td>24668</td>\n",
       "      <td>12147</td>\n",
       "    </tr>\n",
       "    <tr>\n",
       "      <th>2012-01-06</th>\n",
       "      <td>101.91</td>\n",
       "      <td>102.03</td>\n",
       "      <td>101.72</td>\n",
       "      <td>101.86</td>\n",
       "      <td>26846</td>\n",
       "      <td>12288</td>\n",
       "    </tr>\n",
       "    <tr>\n",
       "      <th>2012-01-09</th>\n",
       "      <td>101.84</td>\n",
       "      <td>101.98</td>\n",
       "      <td>101.77</td>\n",
       "      <td>101.79</td>\n",
       "      <td>27064</td>\n",
       "      <td>12280</td>\n",
       "    </tr>\n",
       "    <tr>\n",
       "      <th>2012-01-10</th>\n",
       "      <td>101.82</td>\n",
       "      <td>101.89</td>\n",
       "      <td>101.76</td>\n",
       "      <td>101.81</td>\n",
       "      <td>19797</td>\n",
       "      <td>11810</td>\n",
       "    </tr>\n",
       "    <tr>\n",
       "      <th>2012-01-11</th>\n",
       "      <td>101.82</td>\n",
       "      <td>101.85</td>\n",
       "      <td>101.72</td>\n",
       "      <td>101.84</td>\n",
       "      <td>17209</td>\n",
       "      <td>12005</td>\n",
       "    </tr>\n",
       "    <tr>\n",
       "      <th>2012-01-12</th>\n",
       "      <td>101.85</td>\n",
       "      <td>101.91</td>\n",
       "      <td>101.85</td>\n",
       "      <td>101.86</td>\n",
       "      <td>20913</td>\n",
       "      <td>12574</td>\n",
       "    </tr>\n",
       "    <tr>\n",
       "      <th>2012-01-13</th>\n",
       "      <td>101.82</td>\n",
       "      <td>101.99</td>\n",
       "      <td>101.74</td>\n",
       "      <td>101.80</td>\n",
       "      <td>23145</td>\n",
       "      <td>13822</td>\n",
       "    </tr>\n",
       "    <tr>\n",
       "      <th>2012-01-16</th>\n",
       "      <td>101.88</td>\n",
       "      <td>101.92</td>\n",
       "      <td>101.81</td>\n",
       "      <td>101.85</td>\n",
       "      <td>20448</td>\n",
       "      <td>12936</td>\n",
       "    </tr>\n",
       "    <tr>\n",
       "      <th>2012-01-17</th>\n",
       "      <td>101.84</td>\n",
       "      <td>101.87</td>\n",
       "      <td>101.67</td>\n",
       "      <td>101.68</td>\n",
       "      <td>19438</td>\n",
       "      <td>13055</td>\n",
       "    </tr>\n",
       "    <tr>\n",
       "      <th>2012-01-18</th>\n",
       "      <td>101.76</td>\n",
       "      <td>101.91</td>\n",
       "      <td>101.71</td>\n",
       "      <td>101.79</td>\n",
       "      <td>25749</td>\n",
       "      <td>12744</td>\n",
       "    </tr>\n",
       "    <tr>\n",
       "      <th>2012-01-19</th>\n",
       "      <td>101.82</td>\n",
       "      <td>101.86</td>\n",
       "      <td>101.77</td>\n",
       "      <td>101.81</td>\n",
       "      <td>19607</td>\n",
       "      <td>13407</td>\n",
       "    </tr>\n",
       "    <tr>\n",
       "      <th>2012-01-20</th>\n",
       "      <td>101.77</td>\n",
       "      <td>101.77</td>\n",
       "      <td>101.51</td>\n",
       "      <td>101.59</td>\n",
       "      <td>19526</td>\n",
       "      <td>13028</td>\n",
       "    </tr>\n",
       "    <tr>\n",
       "      <th>2012-01-25</th>\n",
       "      <td>101.63</td>\n",
       "      <td>101.72</td>\n",
       "      <td>101.54</td>\n",
       "      <td>101.54</td>\n",
       "      <td>22045</td>\n",
       "      <td>12461</td>\n",
       "    </tr>\n",
       "    <tr>\n",
       "      <th>2012-01-26</th>\n",
       "      <td>101.64</td>\n",
       "      <td>101.71</td>\n",
       "      <td>101.50</td>\n",
       "      <td>101.50</td>\n",
       "      <td>19645</td>\n",
       "      <td>13214</td>\n",
       "    </tr>\n",
       "    <tr>\n",
       "      <th>2012-01-27</th>\n",
       "      <td>101.59</td>\n",
       "      <td>101.71</td>\n",
       "      <td>101.59</td>\n",
       "      <td>101.71</td>\n",
       "      <td>22976</td>\n",
       "      <td>12947</td>\n",
       "    </tr>\n",
       "    <tr>\n",
       "      <th>2012-01-30</th>\n",
       "      <td>101.80</td>\n",
       "      <td>102.02</td>\n",
       "      <td>101.75</td>\n",
       "      <td>102.02</td>\n",
       "      <td>23526</td>\n",
       "      <td>12949</td>\n",
       "    </tr>\n",
       "    <tr>\n",
       "      <th>2012-01-31</th>\n",
       "      <td>102.09</td>\n",
       "      <td>102.16</td>\n",
       "      <td>101.91</td>\n",
       "      <td>102.01</td>\n",
       "      <td>34896</td>\n",
       "      <td>12241</td>\n",
       "    </tr>\n",
       "    <tr>\n",
       "      <th>2012-02-01</th>\n",
       "      <td>102.14</td>\n",
       "      <td>102.23</td>\n",
       "      <td>102.09</td>\n",
       "      <td>102.14</td>\n",
       "      <td>25743</td>\n",
       "      <td>13277</td>\n",
       "    </tr>\n",
       "    <tr>\n",
       "      <th>2012-02-02</th>\n",
       "      <td>102.07</td>\n",
       "      <td>102.10</td>\n",
       "      <td>102.01</td>\n",
       "      <td>102.01</td>\n",
       "      <td>30795</td>\n",
       "      <td>13390</td>\n",
       "    </tr>\n",
       "    <tr>\n",
       "      <th>2012-02-03</th>\n",
       "      <td>101.99</td>\n",
       "      <td>102.13</td>\n",
       "      <td>101.92</td>\n",
       "      <td>101.92</td>\n",
       "      <td>36981</td>\n",
       "      <td>12824</td>\n",
       "    </tr>\n",
       "    <tr>\n",
       "      <th>2012-02-06</th>\n",
       "      <td>101.77</td>\n",
       "      <td>101.90</td>\n",
       "      <td>101.77</td>\n",
       "      <td>101.90</td>\n",
       "      <td>27311</td>\n",
       "      <td>14874</td>\n",
       "    </tr>\n",
       "    <tr>\n",
       "      <th>2012-02-07</th>\n",
       "      <td>101.91</td>\n",
       "      <td>101.95</td>\n",
       "      <td>101.65</td>\n",
       "      <td>101.68</td>\n",
       "      <td>30737</td>\n",
       "      <td>15029</td>\n",
       "    </tr>\n",
       "    <tr>\n",
       "      <th>2012-02-08</th>\n",
       "      <td>101.66</td>\n",
       "      <td>101.66</td>\n",
       "      <td>101.43</td>\n",
       "      <td>101.49</td>\n",
       "      <td>36895</td>\n",
       "      <td>15625</td>\n",
       "    </tr>\n",
       "    <tr>\n",
       "      <th>2012-02-09</th>\n",
       "      <td>101.57</td>\n",
       "      <td>101.77</td>\n",
       "      <td>101.42</td>\n",
       "      <td>101.56</td>\n",
       "      <td>35231</td>\n",
       "      <td>15488</td>\n",
       "    </tr>\n",
       "    <tr>\n",
       "      <th>2012-02-10</th>\n",
       "      <td>101.54</td>\n",
       "      <td>101.67</td>\n",
       "      <td>101.47</td>\n",
       "      <td>101.63</td>\n",
       "      <td>34989</td>\n",
       "      <td>15025</td>\n",
       "    </tr>\n",
       "    <tr>\n",
       "      <th>2012-02-13</th>\n",
       "      <td>101.69</td>\n",
       "      <td>101.69</td>\n",
       "      <td>101.40</td>\n",
       "      <td>101.43</td>\n",
       "      <td>25885</td>\n",
       "      <td>14551</td>\n",
       "    </tr>\n",
       "    <tr>\n",
       "      <th>2012-02-14</th>\n",
       "      <td>101.49</td>\n",
       "      <td>101.61</td>\n",
       "      <td>101.46</td>\n",
       "      <td>101.54</td>\n",
       "      <td>38153</td>\n",
       "      <td>15153</td>\n",
       "    </tr>\n",
       "    <tr>\n",
       "      <th>...</th>\n",
       "      <td>...</td>\n",
       "      <td>...</td>\n",
       "      <td>...</td>\n",
       "      <td>...</td>\n",
       "      <td>...</td>\n",
       "      <td>...</td>\n",
       "    </tr>\n",
       "    <tr>\n",
       "      <th>2019-12-27</th>\n",
       "      <td>130.25</td>\n",
       "      <td>130.30</td>\n",
       "      <td>130.11</td>\n",
       "      <td>130.15</td>\n",
       "      <td>35365</td>\n",
       "      <td>119151</td>\n",
       "    </tr>\n",
       "    <tr>\n",
       "      <th>2019-12-30</th>\n",
       "      <td>130.19</td>\n",
       "      <td>130.35</td>\n",
       "      <td>129.97</td>\n",
       "      <td>130.28</td>\n",
       "      <td>43430</td>\n",
       "      <td>118192</td>\n",
       "    </tr>\n",
       "    <tr>\n",
       "      <th>2020-01-02</th>\n",
       "      <td>130.06</td>\n",
       "      <td>130.80</td>\n",
       "      <td>129.90</td>\n",
       "      <td>130.70</td>\n",
       "      <td>69726</td>\n",
       "      <td>121568</td>\n",
       "    </tr>\n",
       "    <tr>\n",
       "      <th>2020-01-03</th>\n",
       "      <td>130.80</td>\n",
       "      <td>131.45</td>\n",
       "      <td>130.58</td>\n",
       "      <td>131.40</td>\n",
       "      <td>78944</td>\n",
       "      <td>126183</td>\n",
       "    </tr>\n",
       "    <tr>\n",
       "      <th>2020-01-06</th>\n",
       "      <td>131.64</td>\n",
       "      <td>131.93</td>\n",
       "      <td>131.37</td>\n",
       "      <td>131.37</td>\n",
       "      <td>97956</td>\n",
       "      <td>129204</td>\n",
       "    </tr>\n",
       "    <tr>\n",
       "      <th>2020-01-07</th>\n",
       "      <td>131.19</td>\n",
       "      <td>131.20</td>\n",
       "      <td>130.55</td>\n",
       "      <td>130.55</td>\n",
       "      <td>103213</td>\n",
       "      <td>130450</td>\n",
       "    </tr>\n",
       "    <tr>\n",
       "      <th>2020-01-08</th>\n",
       "      <td>131.05</td>\n",
       "      <td>131.31</td>\n",
       "      <td>130.41</td>\n",
       "      <td>130.41</td>\n",
       "      <td>150755</td>\n",
       "      <td>128139</td>\n",
       "    </tr>\n",
       "    <tr>\n",
       "      <th>2020-01-09</th>\n",
       "      <td>130.31</td>\n",
       "      <td>130.40</td>\n",
       "      <td>129.60</td>\n",
       "      <td>129.68</td>\n",
       "      <td>82427</td>\n",
       "      <td>127243</td>\n",
       "    </tr>\n",
       "    <tr>\n",
       "      <th>2020-01-10</th>\n",
       "      <td>129.86</td>\n",
       "      <td>129.95</td>\n",
       "      <td>129.19</td>\n",
       "      <td>129.25</td>\n",
       "      <td>93065</td>\n",
       "      <td>128976</td>\n",
       "    </tr>\n",
       "    <tr>\n",
       "      <th>2020-01-13</th>\n",
       "      <td>129.34</td>\n",
       "      <td>129.59</td>\n",
       "      <td>129.09</td>\n",
       "      <td>129.38</td>\n",
       "      <td>56837</td>\n",
       "      <td>129866</td>\n",
       "    </tr>\n",
       "    <tr>\n",
       "      <th>2020-01-14</th>\n",
       "      <td>129.27</td>\n",
       "      <td>129.70</td>\n",
       "      <td>129.12</td>\n",
       "      <td>129.68</td>\n",
       "      <td>70528</td>\n",
       "      <td>130534</td>\n",
       "    </tr>\n",
       "    <tr>\n",
       "      <th>2020-01-15</th>\n",
       "      <td>129.82</td>\n",
       "      <td>130.01</td>\n",
       "      <td>129.62</td>\n",
       "      <td>129.88</td>\n",
       "      <td>68381</td>\n",
       "      <td>128399</td>\n",
       "    </tr>\n",
       "    <tr>\n",
       "      <th>2020-01-16</th>\n",
       "      <td>130.01</td>\n",
       "      <td>130.27</td>\n",
       "      <td>129.72</td>\n",
       "      <td>129.75</td>\n",
       "      <td>77747</td>\n",
       "      <td>131576</td>\n",
       "    </tr>\n",
       "    <tr>\n",
       "      <th>2020-01-17</th>\n",
       "      <td>129.67</td>\n",
       "      <td>130.00</td>\n",
       "      <td>129.19</td>\n",
       "      <td>129.47</td>\n",
       "      <td>86573</td>\n",
       "      <td>135280</td>\n",
       "    </tr>\n",
       "    <tr>\n",
       "      <th>2020-01-20</th>\n",
       "      <td>129.26</td>\n",
       "      <td>129.43</td>\n",
       "      <td>129.03</td>\n",
       "      <td>129.38</td>\n",
       "      <td>71055</td>\n",
       "      <td>135969</td>\n",
       "    </tr>\n",
       "    <tr>\n",
       "      <th>2020-01-21</th>\n",
       "      <td>129.39</td>\n",
       "      <td>130.23</td>\n",
       "      <td>129.29</td>\n",
       "      <td>130.10</td>\n",
       "      <td>79015</td>\n",
       "      <td>132002</td>\n",
       "    </tr>\n",
       "    <tr>\n",
       "      <th>2020-01-22</th>\n",
       "      <td>130.10</td>\n",
       "      <td>130.13</td>\n",
       "      <td>129.57</td>\n",
       "      <td>129.68</td>\n",
       "      <td>72141</td>\n",
       "      <td>132925</td>\n",
       "    </tr>\n",
       "    <tr>\n",
       "      <th>2020-01-23</th>\n",
       "      <td>129.87</td>\n",
       "      <td>130.35</td>\n",
       "      <td>129.87</td>\n",
       "      <td>130.03</td>\n",
       "      <td>66655</td>\n",
       "      <td>131758</td>\n",
       "    </tr>\n",
       "    <tr>\n",
       "      <th>2020-01-28</th>\n",
       "      <td>131.30</td>\n",
       "      <td>131.45</td>\n",
       "      <td>131.10</td>\n",
       "      <td>131.19</td>\n",
       "      <td>73941</td>\n",
       "      <td>134829</td>\n",
       "    </tr>\n",
       "    <tr>\n",
       "      <th>2020-01-29</th>\n",
       "      <td>130.90</td>\n",
       "      <td>131.55</td>\n",
       "      <td>130.90</td>\n",
       "      <td>131.55</td>\n",
       "      <td>70761</td>\n",
       "      <td>135357</td>\n",
       "    </tr>\n",
       "    <tr>\n",
       "      <th>2020-01-30</th>\n",
       "      <td>131.68</td>\n",
       "      <td>132.11</td>\n",
       "      <td>131.56</td>\n",
       "      <td>131.69</td>\n",
       "      <td>79165</td>\n",
       "      <td>132619</td>\n",
       "    </tr>\n",
       "    <tr>\n",
       "      <th>2020-01-31</th>\n",
       "      <td>131.59</td>\n",
       "      <td>131.80</td>\n",
       "      <td>131.42</td>\n",
       "      <td>131.63</td>\n",
       "      <td>82452</td>\n",
       "      <td>128940</td>\n",
       "    </tr>\n",
       "    <tr>\n",
       "      <th>2020-02-03</th>\n",
       "      <td>132.07</td>\n",
       "      <td>132.21</td>\n",
       "      <td>131.71</td>\n",
       "      <td>131.71</td>\n",
       "      <td>68377</td>\n",
       "      <td>131965</td>\n",
       "    </tr>\n",
       "    <tr>\n",
       "      <th>2020-02-04</th>\n",
       "      <td>131.55</td>\n",
       "      <td>131.58</td>\n",
       "      <td>130.89</td>\n",
       "      <td>130.89</td>\n",
       "      <td>110058</td>\n",
       "      <td>137074</td>\n",
       "    </tr>\n",
       "    <tr>\n",
       "      <th>2020-02-05</th>\n",
       "      <td>130.74</td>\n",
       "      <td>131.38</td>\n",
       "      <td>130.67</td>\n",
       "      <td>131.20</td>\n",
       "      <td>87584</td>\n",
       "      <td>131347</td>\n",
       "    </tr>\n",
       "    <tr>\n",
       "      <th>2020-02-06</th>\n",
       "      <td>130.95</td>\n",
       "      <td>131.21</td>\n",
       "      <td>130.65</td>\n",
       "      <td>130.97</td>\n",
       "      <td>84372</td>\n",
       "      <td>134841</td>\n",
       "    </tr>\n",
       "    <tr>\n",
       "      <th>2020-02-07</th>\n",
       "      <td>131.10</td>\n",
       "      <td>131.38</td>\n",
       "      <td>131.00</td>\n",
       "      <td>131.20</td>\n",
       "      <td>69174</td>\n",
       "      <td>132773</td>\n",
       "    </tr>\n",
       "    <tr>\n",
       "      <th>2020-02-10</th>\n",
       "      <td>131.45</td>\n",
       "      <td>131.59</td>\n",
       "      <td>131.09</td>\n",
       "      <td>131.23</td>\n",
       "      <td>69285</td>\n",
       "      <td>133754</td>\n",
       "    </tr>\n",
       "    <tr>\n",
       "      <th>2020-02-11</th>\n",
       "      <td>131.30</td>\n",
       "      <td>131.50</td>\n",
       "      <td>131.03</td>\n",
       "      <td>131.30</td>\n",
       "      <td>52144</td>\n",
       "      <td>135235</td>\n",
       "    </tr>\n",
       "    <tr>\n",
       "      <th>2020-02-12</th>\n",
       "      <td>131.18</td>\n",
       "      <td>131.37</td>\n",
       "      <td>130.93</td>\n",
       "      <td>131.04</td>\n",
       "      <td>42690</td>\n",
       "      <td>138759</td>\n",
       "    </tr>\n",
       "  </tbody>\n",
       "</table>\n",
       "<p>1995 rows × 6 columns</p>\n",
       "</div>"
      ],
      "text/plain": [
       "              OPEN    HIGH     LOW   CLOSE  VOLUME  OPENINTEREST\n",
       "DATE                                                            \n",
       "2012-01-02  102.04  102.04  101.83  101.93   16395         13508\n",
       "2012-01-03  101.84  101.93  101.68  101.81   21500         12965\n",
       "2012-01-04  101.76  101.82  101.70  101.74   30370         12545\n",
       "2012-01-05  101.79  101.93  101.71  101.90   24668         12147\n",
       "2012-01-06  101.91  102.03  101.72  101.86   26846         12288\n",
       "2012-01-09  101.84  101.98  101.77  101.79   27064         12280\n",
       "2012-01-10  101.82  101.89  101.76  101.81   19797         11810\n",
       "2012-01-11  101.82  101.85  101.72  101.84   17209         12005\n",
       "2012-01-12  101.85  101.91  101.85  101.86   20913         12574\n",
       "2012-01-13  101.82  101.99  101.74  101.80   23145         13822\n",
       "2012-01-16  101.88  101.92  101.81  101.85   20448         12936\n",
       "2012-01-17  101.84  101.87  101.67  101.68   19438         13055\n",
       "2012-01-18  101.76  101.91  101.71  101.79   25749         12744\n",
       "2012-01-19  101.82  101.86  101.77  101.81   19607         13407\n",
       "2012-01-20  101.77  101.77  101.51  101.59   19526         13028\n",
       "2012-01-25  101.63  101.72  101.54  101.54   22045         12461\n",
       "2012-01-26  101.64  101.71  101.50  101.50   19645         13214\n",
       "2012-01-27  101.59  101.71  101.59  101.71   22976         12947\n",
       "2012-01-30  101.80  102.02  101.75  102.02   23526         12949\n",
       "2012-01-31  102.09  102.16  101.91  102.01   34896         12241\n",
       "2012-02-01  102.14  102.23  102.09  102.14   25743         13277\n",
       "2012-02-02  102.07  102.10  102.01  102.01   30795         13390\n",
       "2012-02-03  101.99  102.13  101.92  101.92   36981         12824\n",
       "2012-02-06  101.77  101.90  101.77  101.90   27311         14874\n",
       "2012-02-07  101.91  101.95  101.65  101.68   30737         15029\n",
       "2012-02-08  101.66  101.66  101.43  101.49   36895         15625\n",
       "2012-02-09  101.57  101.77  101.42  101.56   35231         15488\n",
       "2012-02-10  101.54  101.67  101.47  101.63   34989         15025\n",
       "2012-02-13  101.69  101.69  101.40  101.43   25885         14551\n",
       "2012-02-14  101.49  101.61  101.46  101.54   38153         15153\n",
       "...            ...     ...     ...     ...     ...           ...\n",
       "2019-12-27  130.25  130.30  130.11  130.15   35365        119151\n",
       "2019-12-30  130.19  130.35  129.97  130.28   43430        118192\n",
       "2020-01-02  130.06  130.80  129.90  130.70   69726        121568\n",
       "2020-01-03  130.80  131.45  130.58  131.40   78944        126183\n",
       "2020-01-06  131.64  131.93  131.37  131.37   97956        129204\n",
       "2020-01-07  131.19  131.20  130.55  130.55  103213        130450\n",
       "2020-01-08  131.05  131.31  130.41  130.41  150755        128139\n",
       "2020-01-09  130.31  130.40  129.60  129.68   82427        127243\n",
       "2020-01-10  129.86  129.95  129.19  129.25   93065        128976\n",
       "2020-01-13  129.34  129.59  129.09  129.38   56837        129866\n",
       "2020-01-14  129.27  129.70  129.12  129.68   70528        130534\n",
       "2020-01-15  129.82  130.01  129.62  129.88   68381        128399\n",
       "2020-01-16  130.01  130.27  129.72  129.75   77747        131576\n",
       "2020-01-17  129.67  130.00  129.19  129.47   86573        135280\n",
       "2020-01-20  129.26  129.43  129.03  129.38   71055        135969\n",
       "2020-01-21  129.39  130.23  129.29  130.10   79015        132002\n",
       "2020-01-22  130.10  130.13  129.57  129.68   72141        132925\n",
       "2020-01-23  129.87  130.35  129.87  130.03   66655        131758\n",
       "2020-01-28  131.30  131.45  131.10  131.19   73941        134829\n",
       "2020-01-29  130.90  131.55  130.90  131.55   70761        135357\n",
       "2020-01-30  131.68  132.11  131.56  131.69   79165        132619\n",
       "2020-01-31  131.59  131.80  131.42  131.63   82452        128940\n",
       "2020-02-03  132.07  132.21  131.71  131.71   68377        131965\n",
       "2020-02-04  131.55  131.58  130.89  130.89  110058        137074\n",
       "2020-02-05  130.74  131.38  130.67  131.20   87584        131347\n",
       "2020-02-06  130.95  131.21  130.65  130.97   84372        134841\n",
       "2020-02-07  131.10  131.38  131.00  131.20   69174        132773\n",
       "2020-02-10  131.45  131.59  131.09  131.23   69285        133754\n",
       "2020-02-11  131.30  131.50  131.03  131.30   52144        135235\n",
       "2020-02-12  131.18  131.37  130.93  131.04   42690        138759\n",
       "\n",
       "[1995 rows x 6 columns]"
      ]
     },
     "execution_count": 3,
     "metadata": {},
     "output_type": "execute_result"
    }
   ],
   "source": [
    "data"
   ]
  },
  {
   "cell_type": "code",
   "execution_count": null,
   "metadata": {
    "ExecuteTime": {
     "end_time": "2020-02-28T00:26:54.917279Z",
     "start_time": "2020-02-28T00:26:54.910270Z"
    },
    "scrolled": true
   },
   "outputs": [],
   "source": [
    "data = data[['CLOSE']]\n",
    "data.columns = ['LKTB']\n",
    "data = data.tz_localize('UTC')\n",
    "data.tail()"
   ]
  },
  {
   "cell_type": "code",
   "execution_count": null,
   "metadata": {
    "ExecuteTime": {
     "end_time": "2020-02-28T00:26:55.727636Z",
     "start_time": "2020-02-28T00:26:55.723647Z"
    }
   },
   "outputs": [],
   "source": [
    "start = datetime.datetime(2012,1,1)\n",
    "end = datetime.datetime(2019,12,31)\n",
    "\n",
    "data = data[start:end]"
   ]
  },
  {
   "cell_type": "code",
   "execution_count": null,
   "metadata": {
    "ExecuteTime": {
     "end_time": "2020-02-28T00:26:57.404361Z",
     "start_time": "2020-02-28T00:26:57.393392Z"
    }
   },
   "outputs": [],
   "source": [
    "data"
   ]
  },
  {
   "cell_type": "code",
   "execution_count": null,
   "metadata": {
    "ExecuteTime": {
     "end_time": "2020-02-28T00:27:00.410432Z",
     "start_time": "2020-02-28T00:26:59.880829Z"
    }
   },
   "outputs": [],
   "source": [
    "from zipline.api import order_target, record, symbol, set_commission, commission, set_slippage, slippage"
   ]
  },
  {
   "cell_type": "code",
   "execution_count": null,
   "metadata": {},
   "outputs": [],
   "source": [
    "import zipline"
   ]
  },
  {
   "cell_type": "code",
   "execution_count": null,
   "metadata": {
    "ExecuteTime": {
     "end_time": "2020-02-27T23:59:13.211945Z",
     "start_time": "2020-02-27T23:59:11.274Z"
    }
   },
   "outputs": [],
   "source": [
    "def initialize(context):\n",
    "    context.i = 0\n",
    "    context.sym = symbol('LKTB')\n",
    "    context.hold = False\n",
    "    set_commission(commission.PerShare(cost=0.000008))\n",
    "    set_slippage(slippage.FixedSlippage(spread=0))"
   ]
  },
  {
   "cell_type": "code",
   "execution_count": null,
   "metadata": {
    "ExecuteTime": {
     "end_time": "2020-02-27T23:59:13.212940Z",
     "start_time": "2020-02-27T23:59:11.275Z"
    }
   },
   "outputs": [],
   "source": [
    "def handle_data(context, data):\n",
    "    context.i += 1\n",
    "    if context.i < 20:\n",
    "        return\n",
    "    \n",
    "    buy = False\n",
    "    sell = False\n",
    "    \n",
    "    ma5 = data.history(context.sym, 'price', 5, '1d').mean()\n",
    "    ma20 = data.history(context.sym, 'price', 20, '1d').mean()\n",
    "    \n",
    "    if ma5 > ma20 and context.hold == False:\n",
    "        order_target(context.sym, 100)\n",
    "        context.hold = True\n",
    "        buy = True\n",
    "    elif ma5 < ma20 and context.hold == True:\n",
    "        order_target(context.sym, -100)\n",
    "        context.hold = False\n",
    "        sell = True\n",
    "        \n",
    "    record(LKTB=data.current(context.sym, \"price\"), ma5=ma5, ma20=ma20, buy=buy, sell=sell)"
   ]
  },
  {
   "cell_type": "code",
   "execution_count": null,
   "metadata": {
    "ExecuteTime": {
     "end_time": "2020-02-27T23:59:13.213965Z",
     "start_time": "2020-02-27T23:59:11.279Z"
    }
   },
   "outputs": [],
   "source": [
    "# from zipline.algorithm import TradingAlgorithm"
   ]
  },
  {
   "cell_type": "code",
   "execution_count": null,
   "metadata": {
    "ExecuteTime": {
     "end_time": "2020-02-27T23:59:13.214934Z",
     "start_time": "2020-02-27T23:59:11.282Z"
    }
   },
   "outputs": [],
   "source": [
    "from trading_calendars import get_calendar\n",
    "trading_calendar=get_calendar('XKRX')"
   ]
  },
  {
   "cell_type": "code",
   "execution_count": null,
   "metadata": {
    "ExecuteTime": {
     "end_time": "2020-02-27T23:59:13.215931Z",
     "start_time": "2020-02-27T23:59:11.285Z"
    }
   },
   "outputs": [],
   "source": [
    "from zipline import run_algorithm\n",
    "\n",
    "start = datetime.datetime(2012, 1, 2)\n",
    "end = datetime.datetime(2019,12,30)\n",
    "\n",
    "start_utc = start.replace(tzinfo = datetime.timezone.utc)\n",
    "end_utc = end.replace(tzinfo = datetime.timezone.utc)\n",
    "\n",
    "result = run_algorithm(\n",
    "    start = start_utc, \n",
    "    end = end_utc, \n",
    "    initialize = initialize, \n",
    "    capital_base = 1000, \n",
    "    handle_data = handle_data, \n",
    "    trading_calendar=trading_calendar,\n",
    "    data = data\n",
    ")"
   ]
  },
  {
   "cell_type": "code",
   "execution_count": null,
   "metadata": {
    "ExecuteTime": {
     "end_time": "2020-02-27T23:59:13.216960Z",
     "start_time": "2020-02-27T23:59:11.287Z"
    }
   },
   "outputs": [],
   "source": [
    "start_utc"
   ]
  },
  {
   "cell_type": "code",
   "execution_count": null,
   "metadata": {
    "ExecuteTime": {
     "end_time": "2020-02-27T23:59:13.218951Z",
     "start_time": "2020-02-27T23:59:11.289Z"
    },
    "scrolled": true
   },
   "outputs": [],
   "source": [
    "'''\n",
    "from zipline.utils.factory import create_simulation_parameters\n",
    "algo = TradingAlgorithm(initialize=initialize, handle_data=handle_data, trading_calendar=trading_calendar)\n",
    "# algo = TradingAlgorithm(initialize=initialize, handle_data=handle_data)\n",
    "result = algo.run(data)\n",
    "'''"
   ]
  },
  {
   "cell_type": "code",
   "execution_count": null,
   "metadata": {
    "ExecuteTime": {
     "end_time": "2020-02-27T23:59:13.219949Z",
     "start_time": "2020-02-27T23:59:11.291Z"
    },
    "scrolled": true
   },
   "outputs": [],
   "source": [
    "plt.plot(result.index, result.portfolio_value)\n",
    "plt.show()"
   ]
  },
  {
   "cell_type": "code",
   "execution_count": null,
   "metadata": {
    "ExecuteTime": {
     "end_time": "2020-02-27T23:59:13.220919Z",
     "start_time": "2020-02-27T23:59:11.293Z"
    }
   },
   "outputs": [],
   "source": [
    "result.info()"
   ]
  },
  {
   "cell_type": "code",
   "execution_count": null,
   "metadata": {
    "ExecuteTime": {
     "end_time": "2020-02-27T23:59:13.221916Z",
     "start_time": "2020-02-27T23:59:11.295Z"
    }
   },
   "outputs": [],
   "source": [
    "plt.plot(result.index, result.LKTB)\n",
    "plt.plot(result.index, result.ma5)\n",
    "plt.plot(result.index, result.ma20)\n",
    "\n",
    "plt.legend(loc='best')\n",
    "\n",
    "plt.plot(result[result.buy == True].index, result.LKTB[result.buy == True], '^')\n",
    "plt.plot(result[result.sell == True].index, result.LKTB[result.sell == True], 'v')\n",
    "plt.show()"
   ]
  },
  {
   "cell_type": "code",
   "execution_count": null,
   "metadata": {
    "ExecuteTime": {
     "end_time": "2020-02-27T23:59:13.222937Z",
     "start_time": "2020-02-27T23:59:11.297Z"
    }
   },
   "outputs": [],
   "source": [
    "result[['starting_cash', 'ending_cash', 'ending_value', 'portfolio_value', 'LKTB', 'capital_used']].head(50)"
   ]
  },
  {
   "cell_type": "code",
   "execution_count": null,
   "metadata": {
    "ExecuteTime": {
     "end_time": "2020-02-27T23:59:13.223910Z",
     "start_time": "2020-02-27T23:59:11.300Z"
    },
    "scrolled": true
   },
   "outputs": [],
   "source": [
    "result.tail()"
   ]
  },
  {
   "cell_type": "code",
   "execution_count": null,
   "metadata": {
    "ExecuteTime": {
     "end_time": "2020-02-27T23:59:13.223910Z",
     "start_time": "2020-02-27T23:59:11.302Z"
    }
   },
   "outputs": [],
   "source": [
    "import pyfolio as pf\n"
   ]
  },
  {
   "cell_type": "code",
   "execution_count": null,
   "metadata": {
    "ExecuteTime": {
     "end_time": "2020-02-27T23:59:13.224932Z",
     "start_time": "2020-02-27T23:59:11.305Z"
    }
   },
   "outputs": [],
   "source": [
    "returns, positions, transactions = pf.utils.extract_rets_pos_txn_from_zipline(result)"
   ]
  },
  {
   "cell_type": "code",
   "execution_count": null,
   "metadata": {
    "ExecuteTime": {
     "end_time": "2020-02-27T23:59:13.225905Z",
     "start_time": "2020-02-27T23:59:11.306Z"
    }
   },
   "outputs": [],
   "source": [
    "pf.plot_drawdown_periods(returns, top=5).set_xlabel('Date')"
   ]
  },
  {
   "cell_type": "code",
   "execution_count": null,
   "metadata": {
    "ExecuteTime": {
     "end_time": "2020-02-27T23:59:13.225905Z",
     "start_time": "2020-02-27T23:59:11.308Z"
    }
   },
   "outputs": [],
   "source": [
    "transactions"
   ]
  },
  {
   "cell_type": "code",
   "execution_count": null,
   "metadata": {
    "ExecuteTime": {
     "end_time": "2020-02-27T23:59:13.229894Z",
     "start_time": "2020-02-27T23:59:11.310Z"
    },
    "scrolled": false
   },
   "outputs": [],
   "source": [
    "#pf.create_simple_tear_sheet(returns, positions=positions, transactions=transactions, live_start_date='2019-02-10')\n",
    "#pf.create_full_tear_sheet(returns, positions=positions, transactions=transactions, live_start_date='2019-02-10', round_trips=True)\n",
    "#pf.create_simple_tear_sheet(returns, positions=positions, transactions=transactions,live_start_date='2019-02-10')\n",
    "sheets = pf.create_full_tear_sheet(returns, positions=positions, transactions=transactions)"
   ]
  },
  {
   "cell_type": "code",
   "execution_count": null,
   "metadata": {
    "ExecuteTime": {
     "end_time": "2020-02-27T23:59:13.230892Z",
     "start_time": "2020-02-27T23:59:11.311Z"
    }
   },
   "outputs": [],
   "source": [
    "sheets"
   ]
  },
  {
   "cell_type": "code",
   "execution_count": null,
   "metadata": {
    "ExecuteTime": {
     "end_time": "2020-02-27T23:59:13.232886Z",
     "start_time": "2020-02-27T23:59:11.313Z"
    }
   },
   "outputs": [],
   "source": [
    "\n",
    "returns.shape"
   ]
  },
  {
   "cell_type": "code",
   "execution_count": null,
   "metadata": {
    "ExecuteTime": {
     "end_time": "2020-02-27T23:59:13.233884Z",
     "start_time": "2020-02-27T23:59:11.315Z"
    }
   },
   "outputs": [],
   "source": [
    "returns.head()"
   ]
  },
  {
   "cell_type": "code",
   "execution_count": null,
   "metadata": {
    "ExecuteTime": {
     "end_time": "2020-02-27T23:59:13.234881Z",
     "start_time": "2020-02-27T23:59:11.317Z"
    }
   },
   "outputs": [],
   "source": [
    "type(returns)"
   ]
  },
  {
   "cell_type": "code",
   "execution_count": null,
   "metadata": {
    "ExecuteTime": {
     "end_time": "2020-02-27T23:59:13.235878Z",
     "start_time": "2020-02-27T23:59:11.319Z"
    }
   },
   "outputs": [],
   "source": [
    "returns.index = returns.index.date"
   ]
  },
  {
   "cell_type": "code",
   "execution_count": null,
   "metadata": {
    "ExecuteTime": {
     "end_time": "2020-02-27T23:59:13.236875Z",
     "start_time": "2020-02-27T23:59:11.320Z"
    }
   },
   "outputs": [],
   "source": [
    "returns"
   ]
  },
  {
   "cell_type": "code",
   "execution_count": null,
   "metadata": {
    "ExecuteTime": {
     "end_time": "2020-02-27T23:59:13.237872Z",
     "start_time": "2020-02-27T23:59:11.322Z"
    }
   },
   "outputs": [],
   "source": [
    "#pf.create_simple_tear_sheet(returns, positions=positions, transactions=transactions, live_start_date='2019-02-10')\n",
    "pf.create_simple_tear_sheet(returns)\n"
   ]
  },
  {
   "cell_type": "code",
   "execution_count": null,
   "metadata": {},
   "outputs": [],
   "source": []
  }
 ],
 "metadata": {
  "kernelspec": {
   "display_name": "backtest",
   "language": "python",
   "name": "backtest"
  },
  "language_info": {
   "codemirror_mode": {
    "name": "ipython",
    "version": 3
   },
   "file_extension": ".py",
   "mimetype": "text/x-python",
   "name": "python",
   "nbconvert_exporter": "python",
   "pygments_lexer": "ipython3",
   "version": "3.5.5"
  },
  "toc": {
   "base_numbering": 1,
   "nav_menu": {},
   "number_sections": false,
   "sideBar": true,
   "skip_h1_title": false,
   "title_cell": "Table of Contents",
   "title_sidebar": "Contents",
   "toc_cell": false,
   "toc_position": {
    "height": "calc(100% - 180px)",
    "left": "10px",
    "top": "150px",
    "width": "384px"
   },
   "toc_section_display": true,
   "toc_window_display": true
  },
  "varInspector": {
   "cols": {
    "lenName": 16,
    "lenType": 16,
    "lenVar": 40
   },
   "kernels_config": {
    "python": {
     "delete_cmd_postfix": "",
     "delete_cmd_prefix": "del ",
     "library": "var_list.py",
     "varRefreshCmd": "print(var_dic_list())"
    },
    "r": {
     "delete_cmd_postfix": ") ",
     "delete_cmd_prefix": "rm(",
     "library": "var_list.r",
     "varRefreshCmd": "cat(var_dic_list()) "
    }
   },
   "types_to_exclude": [
    "module",
    "function",
    "builtin_function_or_method",
    "instance",
    "_Feature"
   ],
   "window_display": false
  }
 },
 "nbformat": 4,
 "nbformat_minor": 4
}
