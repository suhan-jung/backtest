{
 "cells": [
  {
   "cell_type": "code",
   "execution_count": 1,
   "metadata": {
    "ExecuteTime": {
     "end_time": "2020-02-18T06:13:40.177959Z",
     "start_time": "2020-02-18T06:13:39.654877Z"
    }
   },
   "outputs": [],
   "source": [
    "# import libraries\n",
    "\n",
    "import pandas as pd\n",
    "import pandas_datareader.data as web\n",
    "from datetime import datetime\n",
    "import matplotlib.pyplot as plt"
   ]
  },
  {
   "cell_type": "code",
   "execution_count": 2,
   "metadata": {
    "ExecuteTime": {
     "end_time": "2020-02-18T06:13:41.765350Z",
     "start_time": "2020-02-18T06:13:40.234770Z"
    }
   },
   "outputs": [],
   "source": [
    "start = datetime(2019,1,1)\n",
    "end = datetime(2019,12,31)\n",
    "data = web.DataReader(\"AAPL\", \"yahoo\", start, end)\n",
    "# data = pd.read_csv(\"../data/LKTB_DAILY.csv\")"
   ]
  },
  {
   "cell_type": "code",
   "execution_count": 3,
   "metadata": {
    "ExecuteTime": {
     "end_time": "2020-02-18T06:13:41.926849Z",
     "start_time": "2020-02-18T06:13:41.916847Z"
    }
   },
   "outputs": [
    {
     "data": {
      "text/html": [
       "<div>\n",
       "<style scoped>\n",
       "    .dataframe tbody tr th:only-of-type {\n",
       "        vertical-align: middle;\n",
       "    }\n",
       "\n",
       "    .dataframe tbody tr th {\n",
       "        vertical-align: top;\n",
       "    }\n",
       "\n",
       "    .dataframe thead th {\n",
       "        text-align: right;\n",
       "    }\n",
       "</style>\n",
       "<table border=\"1\" class=\"dataframe\">\n",
       "  <thead>\n",
       "    <tr style=\"text-align: right;\">\n",
       "      <th></th>\n",
       "      <th>AAPL</th>\n",
       "    </tr>\n",
       "    <tr>\n",
       "      <th>Date</th>\n",
       "      <th></th>\n",
       "    </tr>\n",
       "  </thead>\n",
       "  <tbody>\n",
       "    <tr>\n",
       "      <th>2018-12-31 00:00:00+00:00</th>\n",
       "      <td>155.037109</td>\n",
       "    </tr>\n",
       "    <tr>\n",
       "      <th>2019-01-02 00:00:00+00:00</th>\n",
       "      <td>155.214005</td>\n",
       "    </tr>\n",
       "    <tr>\n",
       "      <th>2019-01-03 00:00:00+00:00</th>\n",
       "      <td>139.753540</td>\n",
       "    </tr>\n",
       "    <tr>\n",
       "      <th>2019-01-04 00:00:00+00:00</th>\n",
       "      <td>145.719513</td>\n",
       "    </tr>\n",
       "    <tr>\n",
       "      <th>2019-01-07 00:00:00+00:00</th>\n",
       "      <td>145.395203</td>\n",
       "    </tr>\n",
       "  </tbody>\n",
       "</table>\n",
       "</div>"
      ],
      "text/plain": [
       "                                 AAPL\n",
       "Date                                 \n",
       "2018-12-31 00:00:00+00:00  155.037109\n",
       "2019-01-02 00:00:00+00:00  155.214005\n",
       "2019-01-03 00:00:00+00:00  139.753540\n",
       "2019-01-04 00:00:00+00:00  145.719513\n",
       "2019-01-07 00:00:00+00:00  145.395203"
      ]
     },
     "execution_count": 3,
     "metadata": {},
     "output_type": "execute_result"
    }
   ],
   "source": [
    "data = data[['Adj Close']]\n",
    "data.columns = ['AAPL']\n",
    "data = data.tz_localize('UTC')\n",
    "data.head()"
   ]
  },
  {
   "cell_type": "code",
   "execution_count": 4,
   "metadata": {
    "ExecuteTime": {
     "end_time": "2020-02-18T06:13:43.151352Z",
     "start_time": "2020-02-18T06:13:42.029088Z"
    }
   },
   "outputs": [],
   "source": [
    "from zipline.api import order_target, record, symbol"
   ]
  },
  {
   "cell_type": "code",
   "execution_count": 5,
   "metadata": {
    "ExecuteTime": {
     "end_time": "2020-02-18T06:13:43.267022Z",
     "start_time": "2020-02-18T06:13:43.263033Z"
    }
   },
   "outputs": [],
   "source": [
    "def initialize(context):\n",
    "    context.i = 0\n",
    "    context.sym = symbol('AAPL')\n",
    "    context.hold = False"
   ]
  },
  {
   "cell_type": "code",
   "execution_count": 6,
   "metadata": {
    "ExecuteTime": {
     "end_time": "2020-02-18T06:13:44.816925Z",
     "start_time": "2020-02-18T06:13:44.810913Z"
    }
   },
   "outputs": [],
   "source": [
    "def handle_data(context, data):\n",
    "    context.i += 1\n",
    "    if context.i < 20:\n",
    "        return\n",
    "    \n",
    "    buy = False\n",
    "    sell = False\n",
    "    \n",
    "    ma5 = data.history(context.sym, 'price', 5, '1d').mean()\n",
    "    ma20 = data.history(context.sym, 'price', 20, '1d').mean()\n",
    "    \n",
    "    if ma5 > ma20 and context.hold == False:\n",
    "        order_target(context.sym, 100)\n",
    "        context.hold = True\n",
    "        buy = True\n",
    "    elif ma5 < ma20 and context.hold == True:\n",
    "        order_target(context.sym, -100)\n",
    "        context.hold = False\n",
    "        sell = True\n",
    "        \n",
    "    record(AAPL=data.current(context.sym, \"price\"), ma5=ma5, ma20=ma20, buy=buy, sell=sell)"
   ]
  },
  {
   "cell_type": "code",
   "execution_count": 7,
   "metadata": {
    "ExecuteTime": {
     "end_time": "2020-02-18T06:13:45.937526Z",
     "start_time": "2020-02-18T06:13:45.933507Z"
    }
   },
   "outputs": [],
   "source": [
    "from zipline.algorithm import TradingAlgorithm"
   ]
  },
  {
   "cell_type": "code",
   "execution_count": 8,
   "metadata": {
    "ExecuteTime": {
     "end_time": "2020-02-18T06:13:47.619622Z",
     "start_time": "2020-02-18T06:13:46.231217Z"
    }
   },
   "outputs": [
    {
     "name": "stderr",
     "output_type": "stream",
     "text": [
      "C:\\ProgramData\\Anaconda3\\envs\\env_zl_pf\\lib\\site-packages\\ipykernel_launcher.py:2: DeprecationWarning: \n",
      "Panel is deprecated and will be removed in a future version.\n",
      "The recommended way to represent these types of 3-dimensional data are with a MultiIndex on a DataFrame, via the Panel.to_frame() method\n",
      "Alternatively, you can use the xarray package http://xarray.pydata.org/en/stable/.\n",
      "Pandas provides a `.to_xarray()` method to help automate this conversion.\n",
      "\n",
      "  \n",
      "C:\\ProgramData\\Anaconda3\\envs\\env_zl_pf\\lib\\site-packages\\empyrical\\stats.py:704: RuntimeWarning: invalid value encountered in true_divide\n",
      "  out=out,\n",
      "C:\\ProgramData\\Anaconda3\\envs\\env_zl_pf\\lib\\site-packages\\empyrical\\stats.py:790: RuntimeWarning: invalid value encountered in true_divide\n",
      "  np.divide(average_annual_return, annualized_downside_risk, out=out)\n"
     ]
    }
   ],
   "source": [
    "algo = TradingAlgorithm(initialize=initialize, handle_data=handle_data)\n",
    "result = algo.run(data)"
   ]
  },
  {
   "cell_type": "code",
   "execution_count": 11,
   "metadata": {
    "ExecuteTime": {
     "end_time": "2020-02-18T06:15:47.368143Z",
     "start_time": "2020-02-18T06:15:47.267878Z"
    },
    "scrolled": true
   },
   "outputs": [
    {
     "data": {
      "image/png": "[encoded data removed]",
      "text/plain": [
       "<Figure size 432x288 with 1 Axes>"
      ]
     },
     "metadata": {
      "needs_background": "light"
     },
     "output_type": "display_data"
    }
   ],
   "source": [
    "plt.plot(result.index, result.portfolio_value)\n",
    "plt.show()"
   ]
  },
  {
   "cell_type": "code",
   "execution_count": 12,
   "metadata": {
    "ExecuteTime": {
     "end_time": "2020-02-18T06:15:48.767644Z",
     "start_time": "2020-02-18T06:15:48.646924Z"
    }
   },
   "outputs": [
    {
     "data": {
      "image/png": "[encoded data removed]",
      "text/plain": [
       "<Figure size 432x288 with 1 Axes>"
      ]
     },
     "metadata": {
      "needs_background": "light"
     },
     "output_type": "display_data"
    }
   ],
   "source": [
    "plt.plot(result.index, result.ma5)\n",
    "plt.plot(result.index, result.ma20)\n",
    "plt.legend(loc='best')\n",
    "\n",
    "plt.plot(result.ix[result.buy == True].index, result.ma5[result.buy == True], '^')\n",
    "plt.plot(result.ix[result.sell == True].index, result.ma5[result.sell == True], 'v')\n",
    "plt.show()"
   ]
  },
  {
   "cell_type": "code",
   "execution_count": null,
   "metadata": {},
   "outputs": [],
   "source": []
  },
  {
   "cell_type": "code",
   "execution_count": null,
   "metadata": {
    "ExecuteTime": {
     "end_time": "2020-02-18T06:10:41.247463Z",
     "start_time": "2020-02-18T06:10:41.239516Z"
    }
   },
   "outputs": [],
   "source": [
    "result.info()"
   ]
  },
  {
   "cell_type": "code",
   "execution_count": null,
   "metadata": {
    "ExecuteTime": {
     "end_time": "2020-02-18T06:10:41.425201Z",
     "start_time": "2020-02-18T06:10:41.248851Z"
    }
   },
   "outputs": [],
   "source": [
    "result[['ma5', 'ma20']].plot()"
   ]
  },
  {
   "cell_type": "code",
   "execution_count": null,
   "metadata": {
    "ExecuteTime": {
     "end_time": "2020-02-18T06:10:41.542915Z",
     "start_time": "2020-02-18T06:10:41.426238Z"
    }
   },
   "outputs": [],
   "source": [
    "result['portfolio_value'].plot()"
   ]
  },
  {
   "cell_type": "code",
   "execution_count": null,
   "metadata": {
    "ExecuteTime": {
     "end_time": "2020-02-18T06:10:41.563859Z",
     "start_time": "2020-02-18T06:10:41.543884Z"
    }
   },
   "outputs": [],
   "source": [
    "result['portfolio_value'].head()"
   ]
  },
  {
   "cell_type": "code",
   "execution_count": null,
   "metadata": {},
   "outputs": [],
   "source": []
  }
 ],
 "metadata": {
  "kernelspec": {
   "display_name": "env_zl_pf",
   "language": "python",
   "name": "env_zl_pf"
  },
  "language_info": {
   "codemirror_mode": {
    "name": "ipython",
    "version": 3
   },
   "file_extension": ".py",
   "mimetype": "text/x-python",
   "name": "python",
   "nbconvert_exporter": "python",
   "pygments_lexer": "ipython3",
   "version": "3.5.6"
  },
  "toc": {
   "base_numbering": 1,
   "nav_menu": {},
   "number_sections": true,
   "sideBar": true,
   "skip_h1_title": false,
   "title_cell": "Table of Contents",
   "title_sidebar": "Contents",
   "toc_cell": false,
   "toc_position": {},
   "toc_section_display": true,
   "toc_window_display": false
  },
  "varInspector": {
   "cols": {
    "lenName": 16,
    "lenType": 16,
    "lenVar": 40
   },
   "kernels_config": {
    "python": {
     "delete_cmd_postfix": "",
     "delete_cmd_prefix": "del ",
     "library": "var_list.py",
     "varRefreshCmd": "print(var_dic_list())"
    },
    "r": {
     "delete_cmd_postfix": ") ",
     "delete_cmd_prefix": "rm(",
     "library": "var_list.r",
     "varRefreshCmd": "cat(var_dic_list()) "
    }
   },
   "types_to_exclude": [
    "module",
    "function",
    "builtin_function_or_method",
    "instance",
    "_Feature"
   ],
   "window_display": false
  }
 },
 "nbformat": 4,
 "nbformat_minor": 4
}
