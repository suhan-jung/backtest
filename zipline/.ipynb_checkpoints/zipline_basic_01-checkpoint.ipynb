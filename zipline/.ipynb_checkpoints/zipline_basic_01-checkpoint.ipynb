{
 "cells": [
  {
   "cell_type": "markdown",
   "metadata": {},
   "source": [
    "# Backtest 기본 예제"
   ]
  },
  {
   "cell_type": "code",
   "execution_count": 1,
   "metadata": {
    "ExecuteTime": {
     "end_time": "2020-02-18T05:45:38.415700Z",
     "start_time": "2020-02-18T05:45:37.833230Z"
    }
   },
   "outputs": [],
   "source": [
    "# import libraries\n",
    "\n",
    "import pandas as pd\n",
    "import pandas_datareader.data as web\n",
    "from datetime import datetime\n",
    "import matplotlib.pyplot as plt"
   ]
  },
  {
   "cell_type": "markdown",
   "metadata": {},
   "source": [
    "입력된 기간의 주가를 가져옵니다."
   ]
  },
  {
   "cell_type": "code",
   "execution_count": 2,
   "metadata": {
    "ExecuteTime": {
     "end_time": "2020-02-18T05:45:39.584576Z",
     "start_time": "2020-02-18T05:45:38.416697Z"
    }
   },
   "outputs": [],
   "source": [
    "start = datetime(2019,1,1)\n",
    "end = datetime(2019,1,31)\n",
    "data = web.DataReader(\"AAPL\", \"yahoo\", start, end)\n",
    "# data = pd.read_csv(\"./data/LKTB_DAILY.csv\")\n"
   ]
  },
  {
   "cell_type": "markdown",
   "metadata": {},
   "source": [
    "데이터의 내용을 확인합니다."
   ]
  },
  {
   "cell_type": "code",
   "execution_count": 3,
   "metadata": {
    "ExecuteTime": {
     "end_time": "2020-02-18T05:45:39.598567Z",
     "start_time": "2020-02-18T05:45:39.586571Z"
    }
   },
   "outputs": [
    {
     "data": {
      "text/html": [
       "<div>\n",
       "<style scoped>\n",
       "    .dataframe tbody tr th:only-of-type {\n",
       "        vertical-align: middle;\n",
       "    }\n",
       "\n",
       "    .dataframe tbody tr th {\n",
       "        vertical-align: top;\n",
       "    }\n",
       "\n",
       "    .dataframe thead th {\n",
       "        text-align: right;\n",
       "    }\n",
       "</style>\n",
       "<table border=\"1\" class=\"dataframe\">\n",
       "  <thead>\n",
       "    <tr style=\"text-align: right;\">\n",
       "      <th></th>\n",
       "      <th>High</th>\n",
       "      <th>Low</th>\n",
       "      <th>Open</th>\n",
       "      <th>Close</th>\n",
       "      <th>Volume</th>\n",
       "      <th>Adj Close</th>\n",
       "    </tr>\n",
       "    <tr>\n",
       "      <th>Date</th>\n",
       "      <th></th>\n",
       "      <th></th>\n",
       "      <th></th>\n",
       "      <th></th>\n",
       "      <th></th>\n",
       "      <th></th>\n",
       "    </tr>\n",
       "  </thead>\n",
       "  <tbody>\n",
       "    <tr>\n",
       "      <th>2018-12-31</th>\n",
       "      <td>159.360001</td>\n",
       "      <td>156.479996</td>\n",
       "      <td>158.529999</td>\n",
       "      <td>157.740005</td>\n",
       "      <td>35003500</td>\n",
       "      <td>155.037109</td>\n",
       "    </tr>\n",
       "    <tr>\n",
       "      <th>2019-01-02</th>\n",
       "      <td>158.850006</td>\n",
       "      <td>154.229996</td>\n",
       "      <td>154.889999</td>\n",
       "      <td>157.919998</td>\n",
       "      <td>37039700</td>\n",
       "      <td>155.214005</td>\n",
       "    </tr>\n",
       "    <tr>\n",
       "      <th>2019-01-03</th>\n",
       "      <td>145.720001</td>\n",
       "      <td>142.000000</td>\n",
       "      <td>143.979996</td>\n",
       "      <td>142.190002</td>\n",
       "      <td>91312200</td>\n",
       "      <td>139.753540</td>\n",
       "    </tr>\n",
       "    <tr>\n",
       "      <th>2019-01-04</th>\n",
       "      <td>148.550003</td>\n",
       "      <td>143.800003</td>\n",
       "      <td>144.529999</td>\n",
       "      <td>148.259995</td>\n",
       "      <td>58607100</td>\n",
       "      <td>145.719513</td>\n",
       "    </tr>\n",
       "    <tr>\n",
       "      <th>2019-01-07</th>\n",
       "      <td>148.830002</td>\n",
       "      <td>145.899994</td>\n",
       "      <td>148.699997</td>\n",
       "      <td>147.929993</td>\n",
       "      <td>54777800</td>\n",
       "      <td>145.395203</td>\n",
       "    </tr>\n",
       "  </tbody>\n",
       "</table>\n",
       "</div>"
      ],
      "text/plain": [
       "                  High         Low        Open       Close    Volume  \\\n",
       "Date                                                                   \n",
       "2018-12-31  159.360001  156.479996  158.529999  157.740005  35003500   \n",
       "2019-01-02  158.850006  154.229996  154.889999  157.919998  37039700   \n",
       "2019-01-03  145.720001  142.000000  143.979996  142.190002  91312200   \n",
       "2019-01-04  148.550003  143.800003  144.529999  148.259995  58607100   \n",
       "2019-01-07  148.830002  145.899994  148.699997  147.929993  54777800   \n",
       "\n",
       "             Adj Close  \n",
       "Date                    \n",
       "2018-12-31  155.037109  \n",
       "2019-01-02  155.214005  \n",
       "2019-01-03  139.753540  \n",
       "2019-01-04  145.719513  \n",
       "2019-01-07  145.395203  "
      ]
     },
     "execution_count": 3,
     "metadata": {},
     "output_type": "execute_result"
    }
   ],
   "source": [
    "data.head()"
   ]
  },
  {
   "cell_type": "markdown",
   "metadata": {},
   "source": [
    "데이터중 수정종가('Adj Close')을 그려봅니다."
   ]
  },
  {
   "cell_type": "code",
   "execution_count": 4,
   "metadata": {
    "ExecuteTime": {
     "end_time": "2020-02-18T05:45:39.733209Z",
     "start_time": "2020-02-18T05:45:39.600534Z"
    }
   },
   "outputs": [
    {
     "data": {
      "text/plain": [
       "[<matplotlib.lines.Line2D at 0x215c1347be0>]"
      ]
     },
     "execution_count": 4,
     "metadata": {},
     "output_type": "execute_result"
    },
    {
     "data": {
      "image/png": "[encoded data removed]",
      "text/plain": [
       "<Figure size 432x288 with 1 Axes>"
      ]
     },
     "metadata": {
      "needs_background": "light"
     },
     "output_type": "display_data"
    }
   ],
   "source": [
    "plt.plot(data.index,data['Adj Close'])"
   ]
  },
  {
   "cell_type": "markdown",
   "metadata": {},
   "source": [
    "초기 투자금액, 거래 수수료등을 세팅해주는 initialize 함수 :  그대로 사용합니다."
   ]
  },
  {
   "cell_type": "code",
   "execution_count": 5,
   "metadata": {
    "ExecuteTime": {
     "end_time": "2020-02-18T05:45:39.738194Z",
     "start_time": "2020-02-18T05:45:39.734177Z"
    }
   },
   "outputs": [],
   "source": [
    "def initialize(context):\n",
    "    pass"
   ]
  },
  {
   "cell_type": "markdown",
   "metadata": {},
   "source": [
    "주문을 실행하는 order 함수, 참조할 데이터에 대한 심볼을 등록하는 symbol함수 import.<br>\n",
    "order함수를 사용해 심볼이 'AAPL'인 주식 한주를 매수하도록 구현합니다."
   ]
  },
  {
   "cell_type": "code",
   "execution_count": 6,
   "metadata": {
    "ExecuteTime": {
     "end_time": "2020-02-18T05:45:40.861334Z",
     "start_time": "2020-02-18T05:45:39.739198Z"
    }
   },
   "outputs": [],
   "source": [
    "from zipline.api import order, symbol\n",
    "\n",
    "def handle_data(context, data):\n",
    "    order(symbol('AAPL'), 1)"
   ]
  },
  {
   "cell_type": "markdown",
   "metadata": {},
   "source": [
    "수정종가만으로 새로운 DataFrame객체를 생성합니다. *Series는 안됨."
   ]
  },
  {
   "cell_type": "code",
   "execution_count": 7,
   "metadata": {
    "ExecuteTime": {
     "end_time": "2020-02-18T05:45:40.873307Z",
     "start_time": "2020-02-18T05:45:40.862331Z"
    }
   },
   "outputs": [
    {
     "data": {
      "text/html": [
       "<div>\n",
       "<style scoped>\n",
       "    .dataframe tbody tr th:only-of-type {\n",
       "        vertical-align: middle;\n",
       "    }\n",
       "\n",
       "    .dataframe tbody tr th {\n",
       "        vertical-align: top;\n",
       "    }\n",
       "\n",
       "    .dataframe thead th {\n",
       "        text-align: right;\n",
       "    }\n",
       "</style>\n",
       "<table border=\"1\" class=\"dataframe\">\n",
       "  <thead>\n",
       "    <tr style=\"text-align: right;\">\n",
       "      <th></th>\n",
       "      <th>Adj Close</th>\n",
       "    </tr>\n",
       "    <tr>\n",
       "      <th>Date</th>\n",
       "      <th></th>\n",
       "    </tr>\n",
       "  </thead>\n",
       "  <tbody>\n",
       "    <tr>\n",
       "      <th>2018-12-31</th>\n",
       "      <td>155.037109</td>\n",
       "    </tr>\n",
       "    <tr>\n",
       "      <th>2019-01-02</th>\n",
       "      <td>155.214005</td>\n",
       "    </tr>\n",
       "    <tr>\n",
       "      <th>2019-01-03</th>\n",
       "      <td>139.753540</td>\n",
       "    </tr>\n",
       "    <tr>\n",
       "      <th>2019-01-04</th>\n",
       "      <td>145.719513</td>\n",
       "    </tr>\n",
       "    <tr>\n",
       "      <th>2019-01-07</th>\n",
       "      <td>145.395203</td>\n",
       "    </tr>\n",
       "  </tbody>\n",
       "</table>\n",
       "</div>"
      ],
      "text/plain": [
       "             Adj Close\n",
       "Date                  \n",
       "2018-12-31  155.037109\n",
       "2019-01-02  155.214005\n",
       "2019-01-03  139.753540\n",
       "2019-01-04  145.719513\n",
       "2019-01-07  145.395203"
      ]
     },
     "execution_count": 7,
     "metadata": {},
     "output_type": "execute_result"
    }
   ],
   "source": [
    "data = data[['Adj Close']]\n",
    "data.head()"
   ]
  },
  {
   "cell_type": "markdown",
   "metadata": {},
   "source": [
    "handle_data 함수내에 있는 symbol('AAPL') 에 맞추어 컬럼명을 AAPL로 바꿔줍니다."
   ]
  },
  {
   "cell_type": "code",
   "execution_count": 8,
   "metadata": {
    "ExecuteTime": {
     "end_time": "2020-02-18T05:45:40.885242Z",
     "start_time": "2020-02-18T05:45:40.875269Z"
    }
   },
   "outputs": [
    {
     "data": {
      "text/html": [
       "<div>\n",
       "<style scoped>\n",
       "    .dataframe tbody tr th:only-of-type {\n",
       "        vertical-align: middle;\n",
       "    }\n",
       "\n",
       "    .dataframe tbody tr th {\n",
       "        vertical-align: top;\n",
       "    }\n",
       "\n",
       "    .dataframe thead th {\n",
       "        text-align: right;\n",
       "    }\n",
       "</style>\n",
       "<table border=\"1\" class=\"dataframe\">\n",
       "  <thead>\n",
       "    <tr style=\"text-align: right;\">\n",
       "      <th></th>\n",
       "      <th>AAPL</th>\n",
       "    </tr>\n",
       "    <tr>\n",
       "      <th>Date</th>\n",
       "      <th></th>\n",
       "    </tr>\n",
       "  </thead>\n",
       "  <tbody>\n",
       "    <tr>\n",
       "      <th>2018-12-31</th>\n",
       "      <td>155.037109</td>\n",
       "    </tr>\n",
       "    <tr>\n",
       "      <th>2019-01-02</th>\n",
       "      <td>155.214005</td>\n",
       "    </tr>\n",
       "    <tr>\n",
       "      <th>2019-01-03</th>\n",
       "      <td>139.753540</td>\n",
       "    </tr>\n",
       "    <tr>\n",
       "      <th>2019-01-04</th>\n",
       "      <td>145.719513</td>\n",
       "    </tr>\n",
       "    <tr>\n",
       "      <th>2019-01-07</th>\n",
       "      <td>145.395203</td>\n",
       "    </tr>\n",
       "  </tbody>\n",
       "</table>\n",
       "</div>"
      ],
      "text/plain": [
       "                  AAPL\n",
       "Date                  \n",
       "2018-12-31  155.037109\n",
       "2019-01-02  155.214005\n",
       "2019-01-03  139.753540\n",
       "2019-01-04  145.719513\n",
       "2019-01-07  145.395203"
      ]
     },
     "execution_count": 8,
     "metadata": {},
     "output_type": "execute_result"
    }
   ],
   "source": [
    "data.columns = [\"AAPL\"]\n",
    "data.head()"
   ]
  },
  {
   "cell_type": "markdown",
   "metadata": {},
   "source": [
    "DataFrame 객체의 인덱스 값을 협정 세계시(UTC)로 변경합니다.(왜?)"
   ]
  },
  {
   "cell_type": "code",
   "execution_count": 9,
   "metadata": {
    "ExecuteTime": {
     "end_time": "2020-02-18T05:45:40.898233Z",
     "start_time": "2020-02-18T05:45:40.887238Z"
    }
   },
   "outputs": [
    {
     "data": {
      "text/html": [
       "<div>\n",
       "<style scoped>\n",
       "    .dataframe tbody tr th:only-of-type {\n",
       "        vertical-align: middle;\n",
       "    }\n",
       "\n",
       "    .dataframe tbody tr th {\n",
       "        vertical-align: top;\n",
       "    }\n",
       "\n",
       "    .dataframe thead th {\n",
       "        text-align: right;\n",
       "    }\n",
       "</style>\n",
       "<table border=\"1\" class=\"dataframe\">\n",
       "  <thead>\n",
       "    <tr style=\"text-align: right;\">\n",
       "      <th></th>\n",
       "      <th>AAPL</th>\n",
       "    </tr>\n",
       "    <tr>\n",
       "      <th>Date</th>\n",
       "      <th></th>\n",
       "    </tr>\n",
       "  </thead>\n",
       "  <tbody>\n",
       "    <tr>\n",
       "      <th>2018-12-31 00:00:00+00:00</th>\n",
       "      <td>155.037109</td>\n",
       "    </tr>\n",
       "    <tr>\n",
       "      <th>2019-01-02 00:00:00+00:00</th>\n",
       "      <td>155.214005</td>\n",
       "    </tr>\n",
       "    <tr>\n",
       "      <th>2019-01-03 00:00:00+00:00</th>\n",
       "      <td>139.753540</td>\n",
       "    </tr>\n",
       "    <tr>\n",
       "      <th>2019-01-04 00:00:00+00:00</th>\n",
       "      <td>145.719513</td>\n",
       "    </tr>\n",
       "    <tr>\n",
       "      <th>2019-01-07 00:00:00+00:00</th>\n",
       "      <td>145.395203</td>\n",
       "    </tr>\n",
       "  </tbody>\n",
       "</table>\n",
       "</div>"
      ],
      "text/plain": [
       "                                 AAPL\n",
       "Date                                 \n",
       "2018-12-31 00:00:00+00:00  155.037109\n",
       "2019-01-02 00:00:00+00:00  155.214005\n",
       "2019-01-03 00:00:00+00:00  139.753540\n",
       "2019-01-04 00:00:00+00:00  145.719513\n",
       "2019-01-07 00:00:00+00:00  145.395203"
      ]
     },
     "execution_count": 9,
     "metadata": {},
     "output_type": "execute_result"
    }
   ],
   "source": [
    "data = data.tz_localize(\"UTC\")\n",
    "data.head()"
   ]
  },
  {
   "cell_type": "code",
   "execution_count": 10,
   "metadata": {
    "ExecuteTime": {
     "end_time": "2020-02-18T05:45:40.909179Z",
     "start_time": "2020-02-18T05:45:40.899206Z"
    }
   },
   "outputs": [
    {
     "data": {
      "text/plain": [
       "(22, 1)"
      ]
     },
     "execution_count": 10,
     "metadata": {},
     "output_type": "execute_result"
    }
   ],
   "source": [
    "data.shape"
   ]
  },
  {
   "cell_type": "markdown",
   "metadata": {},
   "source": [
    "이로써 백테스팅을 위한 모든 준비를 마쳤습니다. 지금부터는 백테스팅을 실제로 수행해보겠습니다. Zipline에서 백테스팅에는 TradingAlgorithm이라는 클래스의 인스턴스를 사용합니다. 먼저 해당 클래스를 사용하기 위해 임포트합니다."
   ]
  },
  {
   "cell_type": "code",
   "execution_count": 11,
   "metadata": {
    "ExecuteTime": {
     "end_time": "2020-02-18T05:45:40.918186Z",
     "start_time": "2020-02-18T05:45:40.910201Z"
    }
   },
   "outputs": [],
   "source": [
    "from zipline.algorithm import TradingAlgorithm"
   ]
  },
  {
   "cell_type": "markdown",
   "metadata": {},
   "source": [
    "TradingAlgorithm 클래스의 인스턴스를 생성할 때 앞서 구현한 초기화 함수, 알고리즘이 구현된 함수를 인자로 전달하면 됩니다."
   ]
  },
  {
   "cell_type": "code",
   "execution_count": 12,
   "metadata": {
    "ExecuteTime": {
     "end_time": "2020-02-18T05:45:48.815308Z",
     "start_time": "2020-02-18T05:45:40.920152Z"
    }
   },
   "outputs": [],
   "source": [
    "algo = TradingAlgorithm(initialize=initialize, handle_data=handle_data)"
   ]
  },
  {
   "cell_type": "markdown",
   "metadata": {},
   "source": [
    "TradingAlgorithm 객체가 정상적으로 생성되면 run 메서드를 호출해 시뮬레이션을 수행할 수 있습니다. 이때 run 메서드의 인자로 시뮬레이션에 사용될 데이터인 DataFrame 객체를 전달하면 됩니다. run 메서드가 수행된 후 시뮬레이션의 결과값은 result에 저장됩니다."
   ]
  },
  {
   "cell_type": "code",
   "execution_count": 13,
   "metadata": {
    "ExecuteTime": {
     "end_time": "2020-02-18T05:45:48.898736Z",
     "start_time": "2020-02-18T05:45:48.816138Z"
    }
   },
   "outputs": [
    {
     "name": "stderr",
     "output_type": "stream",
     "text": [
      "C:\\ProgramData\\Anaconda3\\envs\\env_zl_pf\\lib\\site-packages\\ipykernel_launcher.py:1: DeprecationWarning: \n",
      "Panel is deprecated and will be removed in a future version.\n",
      "The recommended way to represent these types of 3-dimensional data are with a MultiIndex on a DataFrame, via the Panel.to_frame() method\n",
      "Alternatively, you can use the xarray package http://xarray.pydata.org/en/stable/.\n",
      "Pandas provides a `.to_xarray()` method to help automate this conversion.\n",
      "\n",
      "  \"\"\"Entry point for launching an IPython kernel.\n"
     ]
    }
   ],
   "source": [
    "result = algo.run(data)"
   ]
  },
  {
   "cell_type": "markdown",
   "metadata": {},
   "source": [
    "시뮬레이션이 정상적으로 수행됐다면 result의 값을 확인해봅니다. 참고로 result는 pandas의 DataFrame 객체로서 그림 14.18과 같이 head 메서드를 통해 간단히 값을 확인해 봅시다."
   ]
  },
  {
   "cell_type": "code",
   "execution_count": 14,
   "metadata": {
    "ExecuteTime": {
     "end_time": "2020-02-18T05:45:48.925636Z",
     "start_time": "2020-02-18T05:45:48.899741Z"
    }
   },
   "outputs": [
    {
     "data": {
      "text/html": [
       "<div>\n",
       "<style scoped>\n",
       "    .dataframe tbody tr th:only-of-type {\n",
       "        vertical-align: middle;\n",
       "    }\n",
       "\n",
       "    .dataframe tbody tr th {\n",
       "        vertical-align: top;\n",
       "    }\n",
       "\n",
       "    .dataframe thead th {\n",
       "        text-align: right;\n",
       "    }\n",
       "</style>\n",
       "<table border=\"1\" class=\"dataframe\">\n",
       "  <thead>\n",
       "    <tr style=\"text-align: right;\">\n",
       "      <th></th>\n",
       "      <th>algo_volatility</th>\n",
       "      <th>algorithm_period_return</th>\n",
       "      <th>alpha</th>\n",
       "      <th>benchmark_period_return</th>\n",
       "      <th>benchmark_volatility</th>\n",
       "      <th>beta</th>\n",
       "      <th>capital_used</th>\n",
       "      <th>ending_cash</th>\n",
       "      <th>ending_exposure</th>\n",
       "      <th>ending_value</th>\n",
       "      <th>...</th>\n",
       "      <th>short_exposure</th>\n",
       "      <th>short_value</th>\n",
       "      <th>shorts_count</th>\n",
       "      <th>sortino</th>\n",
       "      <th>starting_cash</th>\n",
       "      <th>starting_exposure</th>\n",
       "      <th>starting_value</th>\n",
       "      <th>trading_days</th>\n",
       "      <th>transactions</th>\n",
       "      <th>treasury_period_return</th>\n",
       "    </tr>\n",
       "  </thead>\n",
       "  <tbody>\n",
       "    <tr>\n",
       "      <th>2018-12-31 21:00:00+00:00</th>\n",
       "      <td>NaN</td>\n",
       "      <td>0.000000e+00</td>\n",
       "      <td>None</td>\n",
       "      <td>0.0</td>\n",
       "      <td>NaN</td>\n",
       "      <td>None</td>\n",
       "      <td>0.000000</td>\n",
       "      <td>100000.000000</td>\n",
       "      <td>0.000000</td>\n",
       "      <td>0.000000</td>\n",
       "      <td>...</td>\n",
       "      <td>0.0</td>\n",
       "      <td>0.0</td>\n",
       "      <td>0</td>\n",
       "      <td>NaN</td>\n",
       "      <td>100000.000000</td>\n",
       "      <td>0.000000</td>\n",
       "      <td>0.000000</td>\n",
       "      <td>1</td>\n",
       "      <td>[]</td>\n",
       "      <td>0.0</td>\n",
       "    </tr>\n",
       "    <tr>\n",
       "      <th>2019-01-02 21:00:00+00:00</th>\n",
       "      <td>0.000009</td>\n",
       "      <td>-7.860700e-07</td>\n",
       "      <td>None</td>\n",
       "      <td>0.0</td>\n",
       "      <td>0.0</td>\n",
       "      <td>None</td>\n",
       "      <td>-155.292612</td>\n",
       "      <td>99844.707388</td>\n",
       "      <td>155.214005</td>\n",
       "      <td>155.214005</td>\n",
       "      <td>...</td>\n",
       "      <td>0.0</td>\n",
       "      <td>0.0</td>\n",
       "      <td>0</td>\n",
       "      <td>-11.224972</td>\n",
       "      <td>100000.000000</td>\n",
       "      <td>0.000000</td>\n",
       "      <td>0.000000</td>\n",
       "      <td>2</td>\n",
       "      <td>[{'price': 155.29161151885987, 'dt': 2019-01-0...</td>\n",
       "      <td>0.0</td>\n",
       "    </tr>\n",
       "    <tr>\n",
       "      <th>2019-01-03 21:00:00+00:00</th>\n",
       "      <td>0.001420</td>\n",
       "      <td>-1.560995e-04</td>\n",
       "      <td>None</td>\n",
       "      <td>0.0</td>\n",
       "      <td>0.0</td>\n",
       "      <td>None</td>\n",
       "      <td>-139.824417</td>\n",
       "      <td>99704.882972</td>\n",
       "      <td>279.507080</td>\n",
       "      <td>279.507080</td>\n",
       "      <td>...</td>\n",
       "      <td>0.0</td>\n",
       "      <td>0.0</td>\n",
       "      <td>0</td>\n",
       "      <td>-9.211420</td>\n",
       "      <td>99844.707388</td>\n",
       "      <td>155.214005</td>\n",
       "      <td>155.214005</td>\n",
       "      <td>3</td>\n",
       "      <td>[{'price': 139.82341680908203, 'dt': 2019-01-0...</td>\n",
       "      <td>0.0</td>\n",
       "    </tr>\n",
       "    <tr>\n",
       "      <th>2019-01-04 21:00:00+00:00</th>\n",
       "      <td>0.001783</td>\n",
       "      <td>-3.751862e-05</td>\n",
       "      <td>None</td>\n",
       "      <td>0.0</td>\n",
       "      <td>0.0</td>\n",
       "      <td>None</td>\n",
       "      <td>-145.793373</td>\n",
       "      <td>99559.089599</td>\n",
       "      <td>437.158539</td>\n",
       "      <td>437.158539</td>\n",
       "      <td>...</td>\n",
       "      <td>0.0</td>\n",
       "      <td>0.0</td>\n",
       "      <td>0</td>\n",
       "      <td>-1.916414</td>\n",
       "      <td>99704.882972</td>\n",
       "      <td>279.507080</td>\n",
       "      <td>279.507080</td>\n",
       "      <td>4</td>\n",
       "      <td>[{'price': 145.79237269592286, 'dt': 2019-01-0...</td>\n",
       "      <td>0.0</td>\n",
       "    </tr>\n",
       "    <tr>\n",
       "      <th>2019-01-07 21:00:00+00:00</th>\n",
       "      <td>0.001544</td>\n",
       "      <td>-4.798491e-05</td>\n",
       "      <td>None</td>\n",
       "      <td>0.0</td>\n",
       "      <td>0.0</td>\n",
       "      <td>None</td>\n",
       "      <td>-145.468900</td>\n",
       "      <td>99413.620699</td>\n",
       "      <td>581.580811</td>\n",
       "      <td>581.580811</td>\n",
       "      <td>...</td>\n",
       "      <td>0.0</td>\n",
       "      <td>0.0</td>\n",
       "      <td>0</td>\n",
       "      <td>-2.187551</td>\n",
       "      <td>99559.089599</td>\n",
       "      <td>437.158539</td>\n",
       "      <td>437.158539</td>\n",
       "      <td>5</td>\n",
       "      <td>[{'price': 145.46790023803712, 'dt': 2019-01-0...</td>\n",
       "      <td>0.0</td>\n",
       "    </tr>\n",
       "  </tbody>\n",
       "</table>\n",
       "<p>5 rows × 37 columns</p>\n",
       "</div>"
      ],
      "text/plain": [
       "                           algo_volatility  algorithm_period_return alpha  \\\n",
       "2018-12-31 21:00:00+00:00              NaN             0.000000e+00  None   \n",
       "2019-01-02 21:00:00+00:00         0.000009            -7.860700e-07  None   \n",
       "2019-01-03 21:00:00+00:00         0.001420            -1.560995e-04  None   \n",
       "2019-01-04 21:00:00+00:00         0.001783            -3.751862e-05  None   \n",
       "2019-01-07 21:00:00+00:00         0.001544            -4.798491e-05  None   \n",
       "\n",
       "                           benchmark_period_return  benchmark_volatility  \\\n",
       "2018-12-31 21:00:00+00:00                      0.0                   NaN   \n",
       "2019-01-02 21:00:00+00:00                      0.0                   0.0   \n",
       "2019-01-03 21:00:00+00:00                      0.0                   0.0   \n",
       "2019-01-04 21:00:00+00:00                      0.0                   0.0   \n",
       "2019-01-07 21:00:00+00:00                      0.0                   0.0   \n",
       "\n",
       "                           beta  capital_used    ending_cash  ending_exposure  \\\n",
       "2018-12-31 21:00:00+00:00  None      0.000000  100000.000000         0.000000   \n",
       "2019-01-02 21:00:00+00:00  None   -155.292612   99844.707388       155.214005   \n",
       "2019-01-03 21:00:00+00:00  None   -139.824417   99704.882972       279.507080   \n",
       "2019-01-04 21:00:00+00:00  None   -145.793373   99559.089599       437.158539   \n",
       "2019-01-07 21:00:00+00:00  None   -145.468900   99413.620699       581.580811   \n",
       "\n",
       "                           ending_value          ...            \\\n",
       "2018-12-31 21:00:00+00:00      0.000000          ...             \n",
       "2019-01-02 21:00:00+00:00    155.214005          ...             \n",
       "2019-01-03 21:00:00+00:00    279.507080          ...             \n",
       "2019-01-04 21:00:00+00:00    437.158539          ...             \n",
       "2019-01-07 21:00:00+00:00    581.580811          ...             \n",
       "\n",
       "                           short_exposure  short_value  shorts_count  \\\n",
       "2018-12-31 21:00:00+00:00             0.0          0.0             0   \n",
       "2019-01-02 21:00:00+00:00             0.0          0.0             0   \n",
       "2019-01-03 21:00:00+00:00             0.0          0.0             0   \n",
       "2019-01-04 21:00:00+00:00             0.0          0.0             0   \n",
       "2019-01-07 21:00:00+00:00             0.0          0.0             0   \n",
       "\n",
       "                             sortino  starting_cash  starting_exposure  \\\n",
       "2018-12-31 21:00:00+00:00        NaN  100000.000000           0.000000   \n",
       "2019-01-02 21:00:00+00:00 -11.224972  100000.000000           0.000000   \n",
       "2019-01-03 21:00:00+00:00  -9.211420   99844.707388         155.214005   \n",
       "2019-01-04 21:00:00+00:00  -1.916414   99704.882972         279.507080   \n",
       "2019-01-07 21:00:00+00:00  -2.187551   99559.089599         437.158539   \n",
       "\n",
       "                           starting_value  trading_days  \\\n",
       "2018-12-31 21:00:00+00:00        0.000000             1   \n",
       "2019-01-02 21:00:00+00:00        0.000000             2   \n",
       "2019-01-03 21:00:00+00:00      155.214005             3   \n",
       "2019-01-04 21:00:00+00:00      279.507080             4   \n",
       "2019-01-07 21:00:00+00:00      437.158539             5   \n",
       "\n",
       "                                                                transactions  \\\n",
       "2018-12-31 21:00:00+00:00                                                 []   \n",
       "2019-01-02 21:00:00+00:00  [{'price': 155.29161151885987, 'dt': 2019-01-0...   \n",
       "2019-01-03 21:00:00+00:00  [{'price': 139.82341680908203, 'dt': 2019-01-0...   \n",
       "2019-01-04 21:00:00+00:00  [{'price': 145.79237269592286, 'dt': 2019-01-0...   \n",
       "2019-01-07 21:00:00+00:00  [{'price': 145.46790023803712, 'dt': 2019-01-0...   \n",
       "\n",
       "                          treasury_period_return  \n",
       "2018-12-31 21:00:00+00:00                    0.0  \n",
       "2019-01-02 21:00:00+00:00                    0.0  \n",
       "2019-01-03 21:00:00+00:00                    0.0  \n",
       "2019-01-04 21:00:00+00:00                    0.0  \n",
       "2019-01-07 21:00:00+00:00                    0.0  \n",
       "\n",
       "[5 rows x 37 columns]"
      ]
     },
     "execution_count": 14,
     "metadata": {},
     "output_type": "execute_result"
    }
   ],
   "source": [
    "result.head()"
   ]
  },
  {
   "cell_type": "markdown",
   "metadata": {},
   "source": [
    "## 일별 매수 알고리즘 시뮬레이션 결과\n",
    "\n",
    "result에는 일자별로 다양한 데이터가 저장돼 있습니다. 그중 'starting_cash'는 각 거래일의 개장 전의 보유 현금이고 'ending_cash'는 시장 종료 후 보유 현금입니다. 'ending_value'는 각 거래일의 시장종료후의보유주식에대한평가금액입니다.<br>\n",
    "\n",
    "'starting_cash', 'ending_cash', 'ending_value'는 DataFrame 객체의 칼럼 인덱스이므로 이를 이용해 시뮬레이션 초기 시점의 값을 확인해 봅시다. 거래는 2010-01-04일부터 시작됐는데 해당 일자에는 주식 1주의 매수 주문이 체결되지 않았기 때문에 'starting_cash'와 'ending_cash'가 시뮬레이션 초기 금액인 100,000달러입니다. 주문이 체결되지 않았기 때문에 평가 금액인 'ending_value'는 0임을 확인할 수 있습니다."
   ]
  },
  {
   "cell_type": "code",
   "execution_count": 15,
   "metadata": {
    "ExecuteTime": {
     "end_time": "2020-02-18T05:45:48.935610Z",
     "start_time": "2020-02-18T05:45:48.926634Z"
    }
   },
   "outputs": [
    {
     "data": {
      "text/html": [
       "<div>\n",
       "<style scoped>\n",
       "    .dataframe tbody tr th:only-of-type {\n",
       "        vertical-align: middle;\n",
       "    }\n",
       "\n",
       "    .dataframe tbody tr th {\n",
       "        vertical-align: top;\n",
       "    }\n",
       "\n",
       "    .dataframe thead th {\n",
       "        text-align: right;\n",
       "    }\n",
       "</style>\n",
       "<table border=\"1\" class=\"dataframe\">\n",
       "  <thead>\n",
       "    <tr style=\"text-align: right;\">\n",
       "      <th></th>\n",
       "      <th>starting_cash</th>\n",
       "      <th>ending_cash</th>\n",
       "      <th>ending_value</th>\n",
       "    </tr>\n",
       "  </thead>\n",
       "  <tbody>\n",
       "    <tr>\n",
       "      <th>2018-12-31 21:00:00+00:00</th>\n",
       "      <td>100000.000000</td>\n",
       "      <td>100000.000000</td>\n",
       "      <td>0.000000</td>\n",
       "    </tr>\n",
       "    <tr>\n",
       "      <th>2019-01-02 21:00:00+00:00</th>\n",
       "      <td>100000.000000</td>\n",
       "      <td>99844.707388</td>\n",
       "      <td>155.214005</td>\n",
       "    </tr>\n",
       "    <tr>\n",
       "      <th>2019-01-03 21:00:00+00:00</th>\n",
       "      <td>99844.707388</td>\n",
       "      <td>99704.882972</td>\n",
       "      <td>279.507080</td>\n",
       "    </tr>\n",
       "    <tr>\n",
       "      <th>2019-01-04 21:00:00+00:00</th>\n",
       "      <td>99704.882972</td>\n",
       "      <td>99559.089599</td>\n",
       "      <td>437.158539</td>\n",
       "    </tr>\n",
       "    <tr>\n",
       "      <th>2019-01-07 21:00:00+00:00</th>\n",
       "      <td>99559.089599</td>\n",
       "      <td>99413.620699</td>\n",
       "      <td>581.580811</td>\n",
       "    </tr>\n",
       "  </tbody>\n",
       "</table>\n",
       "</div>"
      ],
      "text/plain": [
       "                           starting_cash    ending_cash  ending_value\n",
       "2018-12-31 21:00:00+00:00  100000.000000  100000.000000      0.000000\n",
       "2019-01-02 21:00:00+00:00  100000.000000   99844.707388    155.214005\n",
       "2019-01-03 21:00:00+00:00   99844.707388   99704.882972    279.507080\n",
       "2019-01-04 21:00:00+00:00   99704.882972   99559.089599    437.158539\n",
       "2019-01-07 21:00:00+00:00   99559.089599   99413.620699    581.580811"
      ]
     },
     "execution_count": 15,
     "metadata": {},
     "output_type": "execute_result"
    }
   ],
   "source": [
    "result[['starting_cash', 'ending_cash', 'ending_value']].head()"
   ]
  },
  {
   "cell_type": "markdown",
   "metadata": {},
   "source": [
    "여러분이 투자하는 동안 관심 있는 것은 아마도 보유 현금과 주식 평가 금액을 합산한 금액일 것입니다. 특정 시점에서 이 금액이 초기 투자 금액보다 높다면 여러분은 주식 투자를 통해 수익을 낸 것이 됩니다. 이 값은 앞서 살펴본 'ending_cash'와 'ending_value'를 합산해서 계산할 수도 있지만 'portfolio_value' 칼럼을 통해 바로 확인할 수 있습니다."
   ]
  },
  {
   "cell_type": "code",
   "execution_count": 16,
   "metadata": {
    "ExecuteTime": {
     "end_time": "2020-02-18T05:45:49.055290Z",
     "start_time": "2020-02-18T05:45:48.937605Z"
    }
   },
   "outputs": [
    {
     "data": {
      "image/png": "[encoded data removed]",
      "text/plain": [
       "<Figure size 432x288 with 1 Axes>"
      ]
     },
     "metadata": {
      "needs_background": "light"
     },
     "output_type": "display_data"
    }
   ],
   "source": [
    "plt.plot(result.index, result.portfolio_value)\n",
    "plt.show()"
   ]
  },
  {
   "cell_type": "code",
   "execution_count": 17,
   "metadata": {
    "ExecuteTime": {
     "end_time": "2020-02-18T05:45:49.206884Z",
     "start_time": "2020-02-18T05:45:49.060277Z"
    }
   },
   "outputs": [
    {
     "data": {
      "text/plain": [
       "<matplotlib.axes._subplots.AxesSubplot at 0x215c46a0828>"
      ]
     },
     "execution_count": 17,
     "metadata": {},
     "output_type": "execute_result"
    },
    {
     "data": {
      "image/png": "[encoded data removed]",
      "text/plain": [
       "<Figure size 432x288 with 1 Axes>"
      ]
     },
     "metadata": {
      "needs_background": "light"
     },
     "output_type": "display_data"
    }
   ],
   "source": [
    "result.portfolio_value.pct_change().fillna(0).add(1).cumprod().sub(1).plot(label='portfolio')"
   ]
  },
  {
   "cell_type": "code",
   "execution_count": null,
   "metadata": {},
   "outputs": [],
   "source": []
  }
 ],
 "metadata": {
  "kernelspec": {
   "display_name": "env_zl_pf",
   "language": "python",
   "name": "env_zl_pf"
  },
  "language_info": {
   "codemirror_mode": {
    "name": "ipython",
    "version": 3
   },
   "file_extension": ".py",
   "mimetype": "text/x-python",
   "name": "python",
   "nbconvert_exporter": "python",
   "pygments_lexer": "ipython3",
   "version": "3.5.6"
  },
  "toc": {
   "base_numbering": 1,
   "nav_menu": {},
   "number_sections": false,
   "sideBar": true,
   "skip_h1_title": false,
   "title_cell": "Table of Contents",
   "title_sidebar": "Contents",
   "toc_cell": false,
   "toc_position": {},
   "toc_section_display": true,
   "toc_window_display": true
  },
  "varInspector": {
   "cols": {
    "lenName": 16,
    "lenType": 16,
    "lenVar": 40
   },
   "kernels_config": {
    "python": {
     "delete_cmd_postfix": "",
     "delete_cmd_prefix": "del ",
     "library": "var_list.py",
     "varRefreshCmd": "print(var_dic_list())"
    },
    "r": {
     "delete_cmd_postfix": ") ",
     "delete_cmd_prefix": "rm(",
     "library": "var_list.r",
     "varRefreshCmd": "cat(var_dic_list()) "
    }
   },
   "types_to_exclude": [
    "module",
    "function",
    "builtin_function_or_method",
    "instance",
    "_Feature"
   ],
   "window_display": false
  }
 },
 "nbformat": 4,
 "nbformat_minor": 4
}
