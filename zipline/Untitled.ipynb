{
 "cells": [
  {
   "cell_type": "code",
   "execution_count": 1,
   "metadata": {
    "ExecuteTime": {
     "end_time": "2020-02-19T07:36:13.579812Z",
     "start_time": "2020-02-19T07:35:50.643251Z"
    }
   },
   "outputs": [
    {
     "name": "stdout",
     "output_type": "stream",
     "text": [
      "                           starting_cash    ending_cash  ending_value\n",
      "2016-01-04 21:00:00+00:00  100000.000000  100000.000000      0.000000\n",
      "2016-01-05 21:00:00+00:00  100000.000000   54963.355213  45014.136719\n",
      "2016-01-06 21:00:00+00:00   54963.355213   54963.355213  43199.050781\n",
      "2016-01-07 21:00:00+00:00   54963.355213   54963.355213  42609.148438\n",
      "2016-01-08 21:00:00+00:00   54963.355213   54963.355213  44832.628906\n",
      "2016-01-11 21:00:00+00:00   54963.355213   54963.355213  43834.332031\n",
      "2016-01-12 21:00:00+00:00   54963.355213   54963.355213  44741.875000\n",
      "2016-01-13 21:00:00+00:00   54963.355213   54963.355213  44878.007812\n",
      "2016-01-14 21:00:00+00:00   54963.355213   54963.355213  44424.234375\n",
      "2016-01-15 21:00:00+00:00   54963.355213   54963.355213  43562.070312\n",
      "2016-01-19 21:00:00+00:00   54963.355213   54963.355213  43062.921875\n",
      "2016-01-20 21:00:00+00:00   54963.355213   54963.355213  42836.035156\n",
      "2016-01-21 21:00:00+00:00   54963.355213   54963.355213  43425.937500\n",
      "2016-01-22 21:00:00+00:00   54963.355213   54963.355213  44288.101562\n",
      "2016-01-25 21:00:00+00:00   54963.355213   54963.355213  44514.988281\n",
      "2016-01-26 21:00:00+00:00   54963.355213   54963.355213  44424.234375\n",
      "2016-01-27 21:00:00+00:00   54963.355213   54963.355213  43879.707031\n",
      "2016-01-28 21:00:00+00:00   54963.355213   54963.355213  44741.875000\n",
      "2016-01-29 21:00:00+00:00   54963.355213   54963.355213  45740.175781\n",
      "2016-02-01 21:00:00+00:00   54963.355213   54963.355213  46466.210938\n"
     ]
    },
    {
     "name": "stderr",
     "output_type": "stream",
     "text": [
      "C:\\ProgramData\\Anaconda3\\envs\\env_zl_pf\\lib\\site-packages\\ipykernel_launcher.py:23: DeprecationWarning: \n",
      "Panel is deprecated and will be removed in a future version.\n",
      "The recommended way to represent these types of 3-dimensional data are with a MultiIndex on a DataFrame, via the Panel.to_frame() method\n",
      "Alternatively, you can use the xarray package http://xarray.pydata.org/en/stable/.\n",
      "Pandas provides a `.to_xarray()` method to help automate this conversion.\n",
      "\n"
     ]
    }
   ],
   "source": [
    "import pandas_datareader.data as web\n",
    "import datetime\n",
    "from zipline.api import order_target, record, symbol\n",
    "from zipline.algorithm import TradingAlgorithm\n",
    "import matplotlib.pyplot as plt\n",
    "\n",
    "start = datetime.datetime(2016, 1, 1)\n",
    "end = datetime.datetime(2016, 1, 31)\n",
    "data = web.DataReader(\"078930.KS\", \"yahoo\", start, end)\n",
    "\n",
    "data = data[['Adj Close']]\n",
    "data.columns = ['GS']\n",
    "data = data.tz_localize('UTC')\n",
    "\n",
    "def initialize(context):\n",
    "    context.i = 0\n",
    "    context.sym = symbol('GS')\n",
    "\n",
    "def handle_data(context, data):\n",
    "    order_target(context.sym, 1)\n",
    "\n",
    "algo = TradingAlgorithm(initialize=initialize, handle_data=handle_data)\n",
    "result = algo.run(data)\n",
    "\n",
    "print(result[['starting_cash', 'ending_cash', 'ending_value']])"
   ]
  },
  {
   "cell_type": "code",
   "execution_count": null,
   "metadata": {},
   "outputs": [],
   "source": []
  }
 ],
 "metadata": {
  "kernelspec": {
   "display_name": "env_zl_pf",
   "language": "python",
   "name": "env_zl_pf"
  },
  "language_info": {
   "codemirror_mode": {
    "name": "ipython",
    "version": 3
   },
   "file_extension": ".py",
   "mimetype": "text/x-python",
   "name": "python",
   "nbconvert_exporter": "python",
   "pygments_lexer": "ipython3",
   "version": "3.5.6"
  },
  "toc": {
   "base_numbering": 1,
   "nav_menu": {},
   "number_sections": true,
   "sideBar": true,
   "skip_h1_title": false,
   "title_cell": "Table of Contents",
   "title_sidebar": "Contents",
   "toc_cell": false,
   "toc_position": {},
   "toc_section_display": true,
   "toc_window_display": false
  },
  "varInspector": {
   "cols": {
    "lenName": 16,
    "lenType": 16,
    "lenVar": 40
   },
   "kernels_config": {
    "python": {
     "delete_cmd_postfix": "",
     "delete_cmd_prefix": "del ",
     "library": "var_list.py",
     "varRefreshCmd": "print(var_dic_list())"
    },
    "r": {
     "delete_cmd_postfix": ") ",
     "delete_cmd_prefix": "rm(",
     "library": "var_list.r",
     "varRefreshCmd": "cat(var_dic_list()) "
    }
   },
   "types_to_exclude": [
    "module",
    "function",
    "builtin_function_or_method",
    "instance",
    "_Feature"
   ],
   "window_display": false
  }
 },
 "nbformat": 4,
 "nbformat_minor": 4
}
